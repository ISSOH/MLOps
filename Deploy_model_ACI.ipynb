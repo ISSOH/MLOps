{
 "cells": [
  {
   "cell_type": "code",
   "execution_count": 1,
   "id": "ec74610e",
   "metadata": {},
   "outputs": [],
   "source": [
    "import pandas as pd\n",
    "import numpy as np\n",
    "import warnings\n",
    "warnings.filterwarnings('ignore')\n",
    "\n",
    "from azureml.core import Experiment\n",
    "from azureml.core import Model\n",
    "from azureml.core import Workspace"
   ]
  },
  {
   "cell_type": "code",
   "execution_count": 2,
   "id": "167a85d9",
   "metadata": {},
   "outputs": [
    {
     "name": "stdout",
     "output_type": "stream",
     "text": [
      "AZURE ML SDK VERSION: 1.30.0\n"
     ]
    }
   ],
   "source": [
    "import azureml.core\n",
    "print(f'AZURE ML SDK VERSION: {azureml.core.VERSION}')"
   ]
  },
  {
   "cell_type": "markdown",
   "id": "84c13627",
   "metadata": {},
   "source": [
    "## Initialize workspace"
   ]
  },
  {
   "cell_type": "code",
   "execution_count": 3,
   "id": "3f41f201",
   "metadata": {},
   "outputs": [
    {
     "name": "stdout",
     "output_type": "stream",
     "text": [
      "Workspace.create(name='mlops_ws', subscription_id='6f507867-3280-4f79-8820-9939bef45222', resource_group='learn_mlops')\n"
     ]
    }
   ],
   "source": [
    "#connect to the workspace and get model and scaler\n",
    "ws = Workspace.from_config()\n",
    "print(ws)"
   ]
  },
  {
   "cell_type": "markdown",
   "id": "f41431bb",
   "metadata": {},
   "source": [
    "## Deploy model on ACI(Azure Container Instance)"
   ]
  },
  {
   "cell_type": "code",
   "execution_count": 44,
   "id": "899a417c",
   "metadata": {},
   "outputs": [
    {
     "name": "stdout",
     "output_type": "stream",
     "text": [
      "Overwriting score.py\n"
     ]
    }
   ],
   "source": [
    "%%writefile score.py\n",
    "import pickle\n",
    "import numpy as np\n",
    "import json\n",
    "import time\n",
    "import joblib\n",
    "import os\n",
    "import onnxruntime\n",
    "from azureml.core.model import Model\n",
    "from azureml.monitoring import ModelDataCollector\n",
    "from inference_schema.schema_decorators import input_schema, output_schema\n",
    "from inference_schema.parameter_types.numpy_parameter_type import NumpyParameterType\n",
    "\n",
    "def init():\n",
    "    global scaler, model, input_name, label_name, inputs_dc, output_dc\n",
    "    #scaler_path = os.path.join(os.getenv('AZUREML_MODEL_DIR'), 'scaler.pkl')\n",
    "    scaler_path = Model.get_model_path(model_name='Scaler', version=1)\n",
    "    scaler = joblib.load(scaler_path)\n",
    "    \n",
    "    #model_onnx = os.path.join(os.getenv('AZUREML_MODEL_DIR'), version, 'final_model_svm.onnx')\n",
    "    model_onnx = Model.get_model_path(model_name='Support-vector-Classifier', version=1)\n",
    "    model = onnxruntime.InferenceSession(model_onnx, None)\n",
    "    input_name = model.get_inputs()[0].name\n",
    "    label_name = model.get_outputs()[0].name\n",
    "    \n",
    "    # Variable to monitor model input and output data\n",
    "    inputs_dc = ModelDataCollector(\"Support vector classifier model\", designation=\"inputs\", feature_names=[\"feat1\", \"feat2\", \"feat3\", \"feat4\", \"feat5\", \"feat6\"])\n",
    "    output_dc = ModelDataCollector(\"Support vector classifier model\", designation=\"output\", feature_names=[\"weatherprediction\"])\n",
    "# @input_schema(\"data\", NumpyParameterType(np.array([34.927778, 0.24, 7.3899, 83, 16.1000, 1])))\n",
    "# @output_schema(NumpyParameterType(np.array([0])))\n",
    "\n",
    "def run(raw_data):\n",
    "    try:\n",
    "        #Scaling data\n",
    "        data = np.array(json.loads(raw_data)['data'])\n",
    "        data = scaler.transform(data.reshape(1, -1))\n",
    "        #Infer model\n",
    "        result = model.run([label_name], {input_name:data.astype(np.float32)})[0]\n",
    "        result = {'result': np.array(result).tolist()}\n",
    "        return result\n",
    "        output_dc.collect(result)\n",
    "    except Exception as e:\n",
    "        result = {'result':str(e)}\n",
    "        return result\n",
    "        output_dc.collect(result)"
   ]
  },
  {
   "cell_type": "markdown",
   "id": "33d7b515",
   "metadata": {},
   "source": [
    "#### Define Environnement"
   ]
  },
  {
   "cell_type": "code",
   "execution_count": 45,
   "id": "3da58e77",
   "metadata": {},
   "outputs": [],
   "source": [
    "from azureml.core.environment import Environment\n",
    "from azureml.core.model import InferenceConfig\n",
    "\n",
    "env = Environment(name=\"my_env\")\n",
    "#env = Environment.get(workspace=ws, name=\"AzureML-onnxruntime-1.6-ubuntu18.04-py37-cpu-inference\").clone(\"my_env\")"
   ]
  },
  {
   "cell_type": "code",
   "execution_count": 46,
   "id": "9f771faa",
   "metadata": {},
   "outputs": [],
   "source": [
    "for pip_package in [\"numpy\", \"onnxruntime\", \"joblib\", \"azureml-core\", \"azureml-monitoring\", \"azureml-defaults\", \n",
    "                    \"scikit-learn==0.22.2\", \"inference-schema\", \"inference-schema[numpy-support]\"]:\n",
    "    env.python.conda_dependencies.add_pip_package(pip_package)\n",
    "\n",
    "inference_config = InferenceConfig(entry_script='score.py', environment=env)"
   ]
  },
  {
   "cell_type": "code",
   "execution_count": 47,
   "id": "382f6ae6",
   "metadata": {},
   "outputs": [
    {
     "data": {
      "text/plain": [
       "{\n",
       "    \"databricks\": {\n",
       "        \"eggLibraries\": [],\n",
       "        \"jarLibraries\": [],\n",
       "        \"mavenLibraries\": [],\n",
       "        \"pypiLibraries\": [],\n",
       "        \"rcranLibraries\": []\n",
       "    },\n",
       "    \"docker\": {\n",
       "        \"arguments\": [],\n",
       "        \"baseDockerfile\": null,\n",
       "        \"baseImage\": \"mcr.microsoft.com/azureml/openmpi3.1.2-ubuntu18.04:20210513.v1\",\n",
       "        \"baseImageRegistry\": {\n",
       "            \"address\": null,\n",
       "            \"password\": null,\n",
       "            \"registryIdentity\": null,\n",
       "            \"username\": null\n",
       "        },\n",
       "        \"enabled\": false,\n",
       "        \"platform\": {\n",
       "            \"architecture\": \"amd64\",\n",
       "            \"os\": \"Linux\"\n",
       "        },\n",
       "        \"sharedVolumes\": true,\n",
       "        \"shmSize\": \"2g\"\n",
       "    },\n",
       "    \"environmentVariables\": {\n",
       "        \"EXAMPLE_ENV_VAR\": \"EXAMPLE_VALUE\"\n",
       "    },\n",
       "    \"inferencingStackVersion\": null,\n",
       "    \"name\": \"my_env\",\n",
       "    \"python\": {\n",
       "        \"baseCondaEnvironment\": null,\n",
       "        \"condaDependencies\": {\n",
       "            \"channels\": [\n",
       "                \"anaconda\",\n",
       "                \"conda-forge\"\n",
       "            ],\n",
       "            \"dependencies\": [\n",
       "                \"python=3.6.2\",\n",
       "                {\n",
       "                    \"pip\": [\n",
       "                        \"numpy\",\n",
       "                        \"onnxruntime\",\n",
       "                        \"joblib\",\n",
       "                        \"azureml-core\",\n",
       "                        \"azureml-monitoring\",\n",
       "                        \"azureml-defaults\",\n",
       "                        \"scikit-learn==0.22.2\",\n",
       "                        \"inference-schema[numpy-support]\"\n",
       "                    ]\n",
       "                }\n",
       "            ],\n",
       "            \"name\": \"project_environment\"\n",
       "        },\n",
       "        \"condaDependenciesFile\": null,\n",
       "        \"interpreterPath\": \"python\",\n",
       "        \"userManagedDependencies\": false\n",
       "    },\n",
       "    \"r\": null,\n",
       "    \"spark\": {\n",
       "        \"packages\": [],\n",
       "        \"precachePackages\": true,\n",
       "        \"repositories\": []\n",
       "    },\n",
       "    \"version\": null\n",
       "}"
      ]
     },
     "execution_count": 47,
     "metadata": {},
     "output_type": "execute_result"
    }
   ],
   "source": [
    "env"
   ]
  },
  {
   "cell_type": "markdown",
   "id": "f78d613e",
   "metadata": {},
   "source": [
    "##### Deployment configuration"
   ]
  },
  {
   "cell_type": "code",
   "execution_count": 48,
   "id": "ea75e5ae",
   "metadata": {},
   "outputs": [
    {
     "data": {
      "text/plain": [
       "<azureml.core.webservice.aci.AciServiceDeploymentConfiguration at 0x7fdbb8c2d668>"
      ]
     },
     "execution_count": 48,
     "metadata": {},
     "output_type": "execute_result"
    }
   ],
   "source": [
    "from azureml.core.webservice import AciWebservice\n",
    "\n",
    "deploy_config = AciWebservice.deploy_configuration(cpu_cores=1, memory_gb=1, collect_model_data=True)\n",
    "deploy_config"
   ]
  },
  {
   "cell_type": "markdown",
   "id": "837d3260",
   "metadata": {},
   "source": [
    "#### deploy web service"
   ]
  },
  {
   "cell_type": "code",
   "execution_count": 49,
   "id": "43fc2d3b",
   "metadata": {},
   "outputs": [],
   "source": [
    "model1 = Model(workspace=ws, name=\"Scaler\")\n",
    "model2 = Model(workspace=ws, name=\"Support-vector-Classifier\")\n",
    "\n",
    "service_name=\"weather-aci-prediction\""
   ]
  },
  {
   "cell_type": "code",
   "execution_count": 50,
   "id": "eabe7708",
   "metadata": {},
   "outputs": [
    {
     "name": "stdout",
     "output_type": "stream",
     "text": [
      "Tips: You can try get_logs(): https://aka.ms/debugimage#dockerlog or local deployment: https://aka.ms/debugimage#debug-locally to debug if deployment takes longer than 10 minutes.\n",
      "Running\n",
      "2021-07-15 00:48:13+00:00 Creating Container Registry if not exists.\n",
      "2021-07-15 00:48:13+00:00 Registering the environment.\n",
      "2021-07-15 00:48:15+00:00 Use the existing image.\n",
      "2021-07-15 00:48:15+00:00 Generating deployment configuration.\n",
      "2021-07-15 00:48:16+00:00 Submitting deployment to compute..\n",
      "2021-07-15 00:48:20+00:00 Checking the status of deployment weather-aci-prediction..\n",
      "2021-07-15 00:50:47+00:00 Checking the status of inference endpoint weather-aci-prediction.\n",
      "Succeeded\n",
      "ACI service creation operation finished, operation \"Succeeded\"\n"
     ]
    }
   ],
   "source": [
    "service = Model.deploy(ws, service_name, models=[model1, model2], inference_config=inference_config, deployment_config=deploy_config,\n",
    "                      overwrite=True)\n",
    "service.wait_for_deployment(show_output=True)"
   ]
  },
  {
   "cell_type": "code",
   "execution_count": 51,
   "id": "ec9ff610",
   "metadata": {},
   "outputs": [
    {
     "name": "stdout",
     "output_type": "stream",
     "text": [
      "2021-07-15T00:50:33,092511600+00:00 - rsyslog/run \n",
      "2021-07-15T00:50:33,095721400+00:00 - gunicorn/run \n",
      "File not found: /var/azureml-app/.\n",
      "Starting HTTP server\n",
      "2021-07-15T00:50:33,094511600+00:00 - iot-server/run \n",
      "2021-07-15T00:50:33,125097800+00:00 - nginx/run \n",
      "EdgeHubConnectionString and IOTEDGE_IOTHUBHOSTNAME are not set. Exiting...\n",
      "2021-07-15T00:50:33,698534400+00:00 - iot-server/finish 1 0\n",
      "2021-07-15T00:50:33,702569600+00:00 - Exit code 1 is normal. Not restarting iot-server.\n",
      "Starting gunicorn 20.1.0\n",
      "Listening at: http://127.0.0.1:31311 (63)\n",
      "Using worker: sync\n",
      "worker timeout is set to 300\n",
      "Booting worker with pid: 92\n",
      "SPARK_HOME not set. Skipping PySpark Initialization.\n",
      "Initializing logger\n",
      "2021-07-15 00:50:37,317 | root | INFO | Starting up app insights client\n",
      "logging socket was found. logging is available.\n",
      "logging socket was found. logging is available.\n",
      "2021-07-15 00:50:37,318 | root | INFO | Starting up request id generator\n",
      "2021-07-15 00:50:37,318 | root | INFO | Starting up app insight hooks\n",
      "2021-07-15 00:50:37,321 | root | INFO | Invoking user's init function\n",
      "no request id,/azureml-envs/azureml_c5231af77d54614cbcbac3be44e0195a/lib/python3.6/site-packages/sklearn/base.py:318: UserWarning: Trying to unpickle estimator StandardScaler from version 0.22.2.post1 when using version 0.22.2. This might lead to breaking code or invalid results. Use at your own risk.\n",
      "  UserWarning)\n",
      "\n",
      "2021-07-15 00:50:38,138 - azureml.monitoring._logging.telemetry_logger.modeldatacollector - INFO - ActivityStarted, mdc_init - activity_id:b660a700-ccef-4466-afbd-f66028f185ab activity_name:mdc_init activity_type:InternalCall sdk_version:1.32.0 telemetry_component_name:azureml.monitoring arm_id:6f507867-3280-4f79-8820-9939bef45222/learn_mlops/mlops_ws location:northeurope hostname:SandboxHost-637619069040962422 sampling_rate:0.01\n",
      "2021-07-15 00:50:38,139 - azureml.monitoring._logging.telemetry_logger.modeldatacollector - INFO - MDC is initialized - activity_id:b660a700-ccef-4466-afbd-f66028f185ab activity_name:mdc_init activity_type:InternalCall sdk_version:1.32.0 telemetry_component_name:azureml.monitoring arm_id:6f507867-3280-4f79-8820-9939bef45222/learn_mlops/mlops_ws location:northeurope hostname:SandboxHost-637619069040962422 sampling_rate:0.01\n",
      "2021-07-15 00:50:38,142 - azureml.monitoring._logging.telemetry_logger.modeldatacollector - INFO - ActivityCompleted: Activity=mdc_init, HowEnded=Success, Duration=4.64 [ms] - activity_id:b660a700-ccef-4466-afbd-f66028f185ab activity_name:mdc_init activity_type:InternalCall completionStatus:Success durationMs:4.64 sdk_version:1.32.0 telemetry_component_name:azureml.monitoring arm_id:6f507867-3280-4f79-8820-9939bef45222/learn_mlops/mlops_ws location:northeurope hostname:SandboxHost-637619069040962422 sampling_rate:0.01\n",
      "Incorrect designation value. Supported values: 'default', 'inputs', 'predictions', 'labels', 'signals', 'general'\n",
      "no request id,Incorrect designation value. Supported values: 'default', 'inputs', 'predictions', 'labels', 'signals', 'general'\n",
      "\n",
      "2021-07-15 00:50:38,144 | root | INFO | Users's init has completed successfully\n",
      "/azureml-envs/azureml_c5231af77d54614cbcbac3be44e0195a/lib/python3.6/site-packages/sklearn/base.py:318: UserWarning: Trying to unpickle estimator StandardScaler from version 0.22.2.post1 when using version 0.22.2. This might lead to breaking code or invalid results. Use at your own risk.\n",
      "  UserWarning)\n",
      "2021-07-15 00:50:38,168 | root | INFO | Skipping middleware: dbg_model_info as it's not enabled.\n",
      "2021-07-15 00:50:38,168 | root | INFO | Skipping middleware: dbg_resource_usage as it's not enabled.\n",
      "2021-07-15 00:50:38,169 | root | INFO | Scoring timeout is found from os.environ: 60000 ms\n",
      "2021-07-15 00:50:47,588 | root | INFO | Swagger file not present\n",
      "2021-07-15 00:50:47,588 | root | INFO | 404\n",
      "127.0.0.1 - - [15/Jul/2021:00:50:47 +0000] \"GET /swagger.json HTTP/1.0\" 404 19 \"-\" \"Go-http-client/1.1\"\n",
      "2021-07-15 00:50:52,796 | root | INFO | Swagger file not present\n",
      "2021-07-15 00:50:52,797 | root | INFO | 404\n",
      "127.0.0.1 - - [15/Jul/2021:00:50:52 +0000] \"GET /swagger.json HTTP/1.0\" 404 19 \"-\" \"Go-http-client/1.1\"\n",
      "\n"
     ]
    }
   ],
   "source": [
    "print(service.get_logs())"
   ]
  },
  {
   "cell_type": "code",
   "execution_count": 52,
   "id": "81c6631b",
   "metadata": {},
   "outputs": [
    {
     "name": "stdout",
     "output_type": "stream",
     "text": [
      "Healthy\n"
     ]
    }
   ],
   "source": [
    "print(service.state)"
   ]
  },
  {
   "cell_type": "markdown",
   "id": "5d886b7c",
   "metadata": {},
   "source": [
    "#### Test web service"
   ]
  },
  {
   "cell_type": "code",
   "execution_count": 53,
   "id": "61f9b75e",
   "metadata": {},
   "outputs": [
    {
     "name": "stdout",
     "output_type": "stream",
     "text": [
      "{'result': [1]}\n"
     ]
    }
   ],
   "source": [
    "import json\n",
    "\n",
    "input_payload = json.dumps({\n",
    "    'data':[34.927778, 0.24, 7.3899, 83, 16.1000, 1]\n",
    "})\n",
    "#input_payload = json.dumps({'data':[[34.927778, 0.24, 7.3899, 83, 16.1000, 1]]})\n",
    "#input_payload = np.array(json.loads(input_payload)['data'][0])\n",
    "output = service.run(input_payload)\n",
    "\n",
    "print(output)"
   ]
  },
  {
   "cell_type": "code",
   "execution_count": null,
   "id": "36667f54",
   "metadata": {},
   "outputs": [],
   "source": []
  }
 ],
 "metadata": {
  "kernelspec": {
   "display_name": "Python 3.6 - AzureML",
   "language": "python",
   "name": "python3-azureml"
  },
  "language_info": {
   "codemirror_mode": {
    "name": "ipython",
    "version": 3
   },
   "file_extension": ".py",
   "mimetype": "text/x-python",
   "name": "python",
   "nbconvert_exporter": "python",
   "pygments_lexer": "ipython3",
   "version": "3.6.9"
  }
 },
 "nbformat": 4,
 "nbformat_minor": 5
}
