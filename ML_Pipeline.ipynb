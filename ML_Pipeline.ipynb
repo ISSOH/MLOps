{
 "cells": [
  {
   "cell_type": "code",
   "execution_count": 1,
   "id": "56ffd8a0",
   "metadata": {},
   "outputs": [],
   "source": [
    "import numpy as np\n",
    "import pandas as pd\n",
    "import matplotlib.pyplot as plt\n",
    "import warnings\n",
    "warnings.filterwarnings('ignore')\n",
    "\n",
    "from azureml.core.run import Run \n",
    "from azureml.core.experiment import Experiment\n",
    "from azureml.core.model import Model\n",
    "from azureml.core.workspace import Workspace\n",
    "from azureml.core.authentication import ServicePrincipalAuthentication\n",
    "from azureml.train.automl import AutoMLConfig\n",
    "\n",
    "import pickle\n",
    "import mlflow"
   ]
  },
  {
   "cell_type": "code",
   "execution_count": 2,
   "id": "3858c5a9",
   "metadata": {},
   "outputs": [],
   "source": [
    "from azureml.core import Workspace, Dataset\n",
    "\n",
    "souscription_id = '6f507867-3280-4f79-8820-9939bef45222'\n",
    "ressource_group = 'Learn_MLOps'\n",
    "workspace_name = 'MLOps_WS'\n",
    "\n",
    "workspace = Workspace(souscription_id, ressource_group, workspace_name)"
   ]
  },
  {
   "cell_type": "code",
   "execution_count": 4,
   "id": "3723c48f",
   "metadata": {},
   "outputs": [],
   "source": [
    "uri = workspace.get_mlflow_tracking_uri()\n",
    "mlflow.set_tracking_uri(uri)"
   ]
  },
  {
   "cell_type": "code",
   "execution_count": 8,
   "id": "7670397d",
   "metadata": {},
   "outputs": [
    {
     "name": "stdout",
     "output_type": "stream",
     "text": [
      "Name of dataset:processed data weather finland port\n",
      "Verion: 1\n"
     ]
    }
   ],
   "source": [
    "# Import processed data from datastore\n",
    "dataset = Dataset.get_by_name(workspace, name='processed data weather finland port')\n",
    "print(f'Name of dataset:{dataset.name}\\nVerion: {dataset.version}')"
   ]
  },
  {
   "cell_type": "code",
   "execution_count": 10,
   "id": "f612f2b9",
   "metadata": {},
   "outputs": [
    {
     "data": {
      "text/html": [
       "<div>\n",
       "<style scoped>\n",
       "    .dataframe tbody tr th:only-of-type {\n",
       "        vertical-align: middle;\n",
       "    }\n",
       "\n",
       "    .dataframe tbody tr th {\n",
       "        vertical-align: top;\n",
       "    }\n",
       "\n",
       "    .dataframe thead th {\n",
       "        text-align: right;\n",
       "    }\n",
       "</style>\n",
       "<table border=\"1\" class=\"dataframe\">\n",
       "  <thead>\n",
       "    <tr style=\"text-align: right;\">\n",
       "      <th></th>\n",
       "      <th>Column1</th>\n",
       "      <th>Timestamp</th>\n",
       "      <th>Location</th>\n",
       "      <th>Temperature_C</th>\n",
       "      <th>Humidity</th>\n",
       "      <th>Wind_speed_kmph</th>\n",
       "      <th>Wind_bearing_degrees</th>\n",
       "      <th>Visibility_km</th>\n",
       "      <th>Pressure_millibars</th>\n",
       "      <th>Weather_condition</th>\n",
       "      <th>new_Weather_condition</th>\n",
       "    </tr>\n",
       "  </thead>\n",
       "  <tbody>\n",
       "    <tr>\n",
       "      <th>0</th>\n",
       "      <td>4</td>\n",
       "      <td>2006-04-01 02:00:00</td>\n",
       "      <td>Port of Turku, Finland</td>\n",
       "      <td>8.755556</td>\n",
       "      <td>0.83</td>\n",
       "      <td>11.0446</td>\n",
       "      <td>259</td>\n",
       "      <td>15.8263</td>\n",
       "      <td>1016.51</td>\n",
       "      <td>1</td>\n",
       "      <td>1.0</td>\n",
       "    </tr>\n",
       "    <tr>\n",
       "      <th>1</th>\n",
       "      <td>5</td>\n",
       "      <td>2006-04-01 03:00:00</td>\n",
       "      <td>Port of Turku, Finland</td>\n",
       "      <td>9.222222</td>\n",
       "      <td>0.85</td>\n",
       "      <td>13.9587</td>\n",
       "      <td>258</td>\n",
       "      <td>14.9569</td>\n",
       "      <td>1016.66</td>\n",
       "      <td>1</td>\n",
       "      <td>1.0</td>\n",
       "    </tr>\n",
       "    <tr>\n",
       "      <th>2</th>\n",
       "      <td>6</td>\n",
       "      <td>2006-04-01 04:00:00</td>\n",
       "      <td>Port of Turku, Finland</td>\n",
       "      <td>7.733333</td>\n",
       "      <td>0.95</td>\n",
       "      <td>12.3648</td>\n",
       "      <td>259</td>\n",
       "      <td>9.9820</td>\n",
       "      <td>1016.72</td>\n",
       "      <td>1</td>\n",
       "      <td>1.0</td>\n",
       "    </tr>\n",
       "    <tr>\n",
       "      <th>3</th>\n",
       "      <td>7</td>\n",
       "      <td>2006-04-01 05:00:00</td>\n",
       "      <td>Port of Turku, Finland</td>\n",
       "      <td>8.772222</td>\n",
       "      <td>0.89</td>\n",
       "      <td>14.1519</td>\n",
       "      <td>260</td>\n",
       "      <td>9.9820</td>\n",
       "      <td>1016.84</td>\n",
       "      <td>1</td>\n",
       "      <td>1.0</td>\n",
       "    </tr>\n",
       "    <tr>\n",
       "      <th>4</th>\n",
       "      <td>8</td>\n",
       "      <td>2006-04-01 06:00:00</td>\n",
       "      <td>Port of Turku, Finland</td>\n",
       "      <td>10.822222</td>\n",
       "      <td>0.82</td>\n",
       "      <td>11.3183</td>\n",
       "      <td>259</td>\n",
       "      <td>9.9820</td>\n",
       "      <td>1017.37</td>\n",
       "      <td>1</td>\n",
       "      <td>1.0</td>\n",
       "    </tr>\n",
       "  </tbody>\n",
       "</table>\n",
       "</div>"
      ],
      "text/plain": [
       "   Column1           Timestamp                Location  Temperature_C  \\\n",
       "0        4 2006-04-01 02:00:00  Port of Turku, Finland       8.755556   \n",
       "1        5 2006-04-01 03:00:00  Port of Turku, Finland       9.222222   \n",
       "2        6 2006-04-01 04:00:00  Port of Turku, Finland       7.733333   \n",
       "3        7 2006-04-01 05:00:00  Port of Turku, Finland       8.772222   \n",
       "4        8 2006-04-01 06:00:00  Port of Turku, Finland      10.822222   \n",
       "\n",
       "   Humidity  Wind_speed_kmph  Wind_bearing_degrees  Visibility_km  \\\n",
       "0      0.83          11.0446                   259        15.8263   \n",
       "1      0.85          13.9587                   258        14.9569   \n",
       "2      0.95          12.3648                   259         9.9820   \n",
       "3      0.89          14.1519                   260         9.9820   \n",
       "4      0.82          11.3183                   259         9.9820   \n",
       "\n",
       "   Pressure_millibars  Weather_condition  new_Weather_condition  \n",
       "0             1016.51                  1                    1.0  \n",
       "1             1016.66                  1                    1.0  \n",
       "2             1016.72                  1                    1.0  \n",
       "3             1016.84                  1                    1.0  \n",
       "4             1017.37                  1                    1.0  "
      ]
     },
     "execution_count": 10,
     "metadata": {},
     "output_type": "execute_result"
    }
   ],
   "source": [
    "df = dataset.to_pandas_dataframe()\n",
    "df.head()"
   ]
  },
  {
   "cell_type": "code",
   "execution_count": 11,
   "id": "f58d2fab",
   "metadata": {},
   "outputs": [
    {
     "data": {
      "text/plain": [
       "(96449, 11)"
      ]
     },
     "execution_count": 11,
     "metadata": {},
     "output_type": "execute_result"
    }
   ],
   "source": [
    "# Split dataset into train and test dataset. In order to keep temporal order, we will not use train_test_split\n",
    "# We'll split data en 80% for train and data remaining for test\n",
    "df.shape"
   ]
  },
  {
   "cell_type": "markdown",
   "id": "decda42b",
   "metadata": {},
   "source": [
    "* Let's evaluate size of training data \\begin{equation*}\n",
    "  \\frac{80}{100} *96449\\ \\simeq 77160\\ \n",
    "  \\end{equation*}"
   ]
  },
  {
   "cell_type": "code",
   "execution_count": 13,
   "id": "f562326a",
   "metadata": {},
   "outputs": [
    {
     "name": "stdout",
     "output_type": "stream",
     "text": [
      "Shape train data: (77160, 11)\n",
      "Shape test data: (19289, 11)\n"
     ]
    }
   ],
   "source": [
    "data_train = df.iloc[:77160]\n",
    "data_test = df.iloc[77160:]\n",
    "print(f'Shape train data: {data_train.shape}\\nShape test data: {data_test.shape}')"
   ]
  },
  {
   "cell_type": "markdown",
   "id": "b95af5c4",
   "metadata": {},
   "source": [
    "### Save and register the two dataset"
   ]
  },
  {
   "cell_type": "code",
   "execution_count": 15,
   "id": "9b0a9588",
   "metadata": {},
   "outputs": [],
   "source": [
    "#Save those 2 datasets to datastore connected to our workspace(Microsoft AML workspace)\n",
    "#First Save to current folder 'Data'\n",
    "data_train.to_csv('Data_train_test/train_dataset.csv', index=False)\n",
    "data_test.to_csv('Data_train_test/test_dataset.csv', index=False)"
   ]
  },
  {
   "cell_type": "code",
   "execution_count": 17,
   "id": "13a0670c",
   "metadata": {},
   "outputs": [
    {
     "name": "stdout",
     "output_type": "stream",
     "text": [
      "Uploading an estimated of 2 files\n",
      "Uploading Data_train_test/test_dataset.csv\n",
      "Uploaded Data_train_test/test_dataset.csv, 1 files out of an estimated total of 2\n",
      "Uploading Data_train_test/train_dataset.csv\n",
      "Uploaded Data_train_test/train_dataset.csv, 2 files out of an estimated total of 2\n",
      "Uploaded 2 files\n"
     ]
    },
    {
     "data": {
      "text/plain": [
       "$AZUREML_DATAREFERENCE_8c487c1d7efb44529eda103259e4ea26"
      ]
     },
     "execution_count": 17,
     "metadata": {},
     "output_type": "execute_result"
    }
   ],
   "source": [
    "#Upload to datastore\n",
    "datastore = workspace.get_default_datastore()\n",
    "datastore.upload(src_dir='Data_train_test', target_path='data')"
   ]
  },
  {
   "cell_type": "code",
   "execution_count": 20,
   "id": "dd77d4b0",
   "metadata": {},
   "outputs": [],
   "source": [
    "# Register and version\n",
    "train_dataset = Dataset.Tabular.from_delimited_files(datastore.path('data/train_dataset.csv'))"
   ]
  },
  {
   "cell_type": "code",
   "execution_count": 21,
   "id": "24936cee",
   "metadata": {},
   "outputs": [],
   "source": [
    "test_dataset = Dataset.Tabular.from_delimited_files(datastore.path('data/test_dataset.csv'))"
   ]
  },
  {
   "cell_type": "code",
   "execution_count": 23,
   "id": "fdcdbb83",
   "metadata": {},
   "outputs": [],
   "source": [
    "training_ds = train_dataset.register(workspace=workspace, name='training dataset', description='Dataset to use to trainin ML model')"
   ]
  },
  {
   "cell_type": "code",
   "execution_count": 24,
   "id": "8a160a66",
   "metadata": {},
   "outputs": [],
   "source": [
    "test_ds = test_dataset.register(workspace=workspace, name='testing dataset', description='Dataset to use to test ML model')"
   ]
  },
  {
   "cell_type": "markdown",
   "id": "e644b463",
   "metadata": {},
   "source": [
    "## Data ingestion training set "
   ]
  },
  {
   "cell_type": "code",
   "execution_count": 25,
   "id": "bfcb9c04",
   "metadata": {},
   "outputs": [
    {
     "name": "stdout",
     "output_type": "stream",
     "text": [
      "Dataset name: training dataset\n",
      "Dataset version: 1\n"
     ]
    }
   ],
   "source": [
    "dataset = Dataset.get_by_name(workspace, name='training dataset')\n",
    "print(f'Dataset name: {dataset.name}\\nDataset version: {dataset.version}')"
   ]
  },
  {
   "cell_type": "code",
   "execution_count": 27,
   "id": "fb3cb2e4",
   "metadata": {},
   "outputs": [
    {
     "data": {
      "text/html": [
       "<div>\n",
       "<style scoped>\n",
       "    .dataframe tbody tr th:only-of-type {\n",
       "        vertical-align: middle;\n",
       "    }\n",
       "\n",
       "    .dataframe tbody tr th {\n",
       "        vertical-align: top;\n",
       "    }\n",
       "\n",
       "    .dataframe thead th {\n",
       "        text-align: right;\n",
       "    }\n",
       "</style>\n",
       "<table border=\"1\" class=\"dataframe\">\n",
       "  <thead>\n",
       "    <tr style=\"text-align: right;\">\n",
       "      <th></th>\n",
       "      <th>Column1</th>\n",
       "      <th>Timestamp</th>\n",
       "      <th>Location</th>\n",
       "      <th>Temperature_C</th>\n",
       "      <th>Humidity</th>\n",
       "      <th>Wind_speed_kmph</th>\n",
       "      <th>Wind_bearing_degrees</th>\n",
       "      <th>Visibility_km</th>\n",
       "      <th>Pressure_millibars</th>\n",
       "      <th>Weather_condition</th>\n",
       "      <th>new_Weather_condition</th>\n",
       "    </tr>\n",
       "  </thead>\n",
       "  <tbody>\n",
       "    <tr>\n",
       "      <th>0</th>\n",
       "      <td>4</td>\n",
       "      <td>2006-04-01 02:00:00</td>\n",
       "      <td>Port of Turku, Finland</td>\n",
       "      <td>8.755556</td>\n",
       "      <td>0.83</td>\n",
       "      <td>11.0446</td>\n",
       "      <td>259</td>\n",
       "      <td>15.8263</td>\n",
       "      <td>1016.51</td>\n",
       "      <td>1</td>\n",
       "      <td>1.0</td>\n",
       "    </tr>\n",
       "    <tr>\n",
       "      <th>1</th>\n",
       "      <td>5</td>\n",
       "      <td>2006-04-01 03:00:00</td>\n",
       "      <td>Port of Turku, Finland</td>\n",
       "      <td>9.222222</td>\n",
       "      <td>0.85</td>\n",
       "      <td>13.9587</td>\n",
       "      <td>258</td>\n",
       "      <td>14.9569</td>\n",
       "      <td>1016.66</td>\n",
       "      <td>1</td>\n",
       "      <td>1.0</td>\n",
       "    </tr>\n",
       "    <tr>\n",
       "      <th>2</th>\n",
       "      <td>6</td>\n",
       "      <td>2006-04-01 04:00:00</td>\n",
       "      <td>Port of Turku, Finland</td>\n",
       "      <td>7.733333</td>\n",
       "      <td>0.95</td>\n",
       "      <td>12.3648</td>\n",
       "      <td>259</td>\n",
       "      <td>9.9820</td>\n",
       "      <td>1016.72</td>\n",
       "      <td>1</td>\n",
       "      <td>1.0</td>\n",
       "    </tr>\n",
       "    <tr>\n",
       "      <th>3</th>\n",
       "      <td>7</td>\n",
       "      <td>2006-04-01 05:00:00</td>\n",
       "      <td>Port of Turku, Finland</td>\n",
       "      <td>8.772222</td>\n",
       "      <td>0.89</td>\n",
       "      <td>14.1519</td>\n",
       "      <td>260</td>\n",
       "      <td>9.9820</td>\n",
       "      <td>1016.84</td>\n",
       "      <td>1</td>\n",
       "      <td>1.0</td>\n",
       "    </tr>\n",
       "    <tr>\n",
       "      <th>4</th>\n",
       "      <td>8</td>\n",
       "      <td>2006-04-01 06:00:00</td>\n",
       "      <td>Port of Turku, Finland</td>\n",
       "      <td>10.822222</td>\n",
       "      <td>0.82</td>\n",
       "      <td>11.3183</td>\n",
       "      <td>259</td>\n",
       "      <td>9.9820</td>\n",
       "      <td>1017.37</td>\n",
       "      <td>1</td>\n",
       "      <td>1.0</td>\n",
       "    </tr>\n",
       "  </tbody>\n",
       "</table>\n",
       "</div>"
      ],
      "text/plain": [
       "   Column1           Timestamp                Location  Temperature_C  \\\n",
       "0        4 2006-04-01 02:00:00  Port of Turku, Finland       8.755556   \n",
       "1        5 2006-04-01 03:00:00  Port of Turku, Finland       9.222222   \n",
       "2        6 2006-04-01 04:00:00  Port of Turku, Finland       7.733333   \n",
       "3        7 2006-04-01 05:00:00  Port of Turku, Finland       8.772222   \n",
       "4        8 2006-04-01 06:00:00  Port of Turku, Finland      10.822222   \n",
       "\n",
       "   Humidity  Wind_speed_kmph  Wind_bearing_degrees  Visibility_km  \\\n",
       "0      0.83          11.0446                   259        15.8263   \n",
       "1      0.85          13.9587                   258        14.9569   \n",
       "2      0.95          12.3648                   259         9.9820   \n",
       "3      0.89          14.1519                   260         9.9820   \n",
       "4      0.82          11.3183                   259         9.9820   \n",
       "\n",
       "   Pressure_millibars  Weather_condition  new_Weather_condition  \n",
       "0             1016.51                  1                    1.0  \n",
       "1             1016.66                  1                    1.0  \n",
       "2             1016.72                  1                    1.0  \n",
       "3             1016.84                  1                    1.0  \n",
       "4             1017.37                  1                    1.0  "
      ]
     },
     "execution_count": 27,
     "metadata": {},
     "output_type": "execute_result"
    }
   ],
   "source": [
    "df = dataset.to_pandas_dataframe()\n",
    "df.head()"
   ]
  },
  {
   "cell_type": "code",
   "execution_count": 30,
   "id": "6786dd36",
   "metadata": {},
   "outputs": [
    {
     "data": {
      "text/plain": [
       "Index(['Column1', 'Timestamp', 'Location', 'Temperature_C', 'Humidity',\n",
       "       'Wind_speed_kmph', 'Wind_bearing_degrees', 'Visibility_km',\n",
       "       'Pressure_millibars', 'Weather_condition', 'new_Weather_condition'],\n",
       "      dtype='object')"
      ]
     },
     "execution_count": 30,
     "metadata": {},
     "output_type": "execute_result"
    }
   ],
   "source": [
    "df.columns"
   ]
  },
  {
   "cell_type": "code",
   "execution_count": 28,
   "id": "623ec3f4",
   "metadata": {},
   "outputs": [
    {
     "data": {
      "text/plain": [
       "(77160, 11)"
      ]
     },
     "execution_count": 28,
     "metadata": {},
     "output_type": "execute_result"
    }
   ],
   "source": [
    "df.shape"
   ]
  },
  {
   "cell_type": "code",
   "execution_count": 32,
   "id": "72012b60",
   "metadata": {},
   "outputs": [],
   "source": [
    "# Split data into train et validation data\n",
    "train_col = ['Temperature_C', 'Humidity', 'Wind_speed_kmph', 'Wind_bearing_degrees', 'Visibility_km', 'Pressure_millibars']\n",
    "X = df[train_col]\n",
    "y = df['new_Weather_condition']"
   ]
  },
  {
   "cell_type": "code",
   "execution_count": 33,
   "id": "3896b035",
   "metadata": {},
   "outputs": [],
   "source": [
    "# Feature scaling\n",
    "from sklearn.preprocessing import StandardScaler"
   ]
  },
  {
   "cell_type": "code",
   "execution_count": 34,
   "id": "98ec4ee0",
   "metadata": {},
   "outputs": [],
   "source": [
    "sc = StandardScaler()\n",
    "X = sc.fit_transform(X)"
   ]
  },
  {
   "cell_type": "code",
   "execution_count": 37,
   "id": "43e0ec20",
   "metadata": {},
   "outputs": [],
   "source": [
    "from sklearn.model_selection import train_test_split\n",
    "X_train, X_validation, y_train, y_validation = train_test_split(X, y, test_size=0.2, random_state=42)"
   ]
  },
  {
   "cell_type": "markdown",
   "id": "474e446a",
   "metadata": {},
   "source": [
    "## Training and Testing Model"
   ]
  },
  {
   "cell_type": "markdown",
   "id": "93574853",
   "metadata": {},
   "source": [
    "* SVM"
   ]
  },
  {
   "cell_type": "code",
   "execution_count": 39,
   "id": "ed3e00f9",
   "metadata": {},
   "outputs": [],
   "source": [
    "# Set Experiment into Azure ML\n",
    "experiment = Experiment(workspace, 'Support-Vector-Machine')"
   ]
  },
  {
   "cell_type": "code",
   "execution_count": 40,
   "id": "0055ef5e",
   "metadata": {},
   "outputs": [
    {
     "name": "stdout",
     "output_type": "stream",
     "text": [
      "INFO: 'mlflow-Support-Vector-Machine' does not exist. Creating a new experiment\n"
     ]
    }
   ],
   "source": [
    "#set experiment with mlflow\n",
    "mlflow.set_experiment('mlflow-Support-Vector-Machine')"
   ]
  },
  {
   "cell_type": "code",
   "execution_count": 42,
   "id": "8475724a",
   "metadata": {},
   "outputs": [],
   "source": [
    "from sklearn.model_selection import GridSearchCV\n",
    "from sklearn.svm import SVC\n",
    "params_grid = {\n",
    "    'kernel': ('Linear', 'rbf'), 'C':[1, 10]\n",
    "}\n",
    "svm_clf = SVC()\n",
    "# Initialize run in Azure Ml and mlflow\n",
    "run = experiment.start_logging()\n",
    "mlflow.start_run()\n",
    "run.log(\"dataset name:\", dataset.name)\n",
    "run.log('dataset version:', dataset.version)\n",
    "grid_svm = GridSearchCV(svm_clf, params_grid, verbose=2)"
   ]
  },
  {
   "cell_type": "code",
   "execution_count": 43,
   "id": "e877f17e",
   "metadata": {},
   "outputs": [
    {
     "name": "stdout",
     "output_type": "stream",
     "text": [
      "Fitting 5 folds for each of 4 candidates, totalling 20 fits\n",
      "[CV] C=1, kernel=Linear ..............................................\n",
      "[CV] ............................... C=1, kernel=Linear, total=   0.0s\n",
      "[CV] C=1, kernel=Linear ..............................................\n",
      "[CV] ............................... C=1, kernel=Linear, total=   0.0s\n",
      "[CV] C=1, kernel=Linear ..............................................\n",
      "[CV] ............................... C=1, kernel=Linear, total=   0.0s\n",
      "[CV] C=1, kernel=Linear ..............................................\n",
      "[CV] ............................... C=1, kernel=Linear, total=   0.0s\n",
      "[CV] C=1, kernel=Linear ..............................................\n",
      "[CV] ............................... C=1, kernel=Linear, total=   0.0s\n",
      "[CV] C=1, kernel=rbf .................................................\n"
     ]
    },
    {
     "name": "stderr",
     "output_type": "stream",
     "text": [
      "[Parallel(n_jobs=1)]: Using backend SequentialBackend with 1 concurrent workers.\n",
      "[Parallel(n_jobs=1)]: Done   1 out of   1 | elapsed:    0.0s remaining:    0.0s\n"
     ]
    },
    {
     "name": "stdout",
     "output_type": "stream",
     "text": [
      "[CV] .................................. C=1, kernel=rbf, total=  16.9s\n",
      "[CV] C=1, kernel=rbf .................................................\n",
      "[CV] .................................. C=1, kernel=rbf, total=  16.5s\n",
      "[CV] C=1, kernel=rbf .................................................\n",
      "[CV] .................................. C=1, kernel=rbf, total=  16.5s\n",
      "[CV] C=1, kernel=rbf .................................................\n",
      "[CV] .................................. C=1, kernel=rbf, total=  17.0s\n",
      "[CV] C=1, kernel=rbf .................................................\n",
      "[CV] .................................. C=1, kernel=rbf, total=  16.7s\n",
      "[CV] C=10, kernel=Linear .............................................\n",
      "[CV] .............................. C=10, kernel=Linear, total=   0.0s\n",
      "[CV] C=10, kernel=Linear .............................................\n",
      "[CV] .............................. C=10, kernel=Linear, total=   0.0s\n",
      "[CV] C=10, kernel=Linear .............................................\n",
      "[CV] .............................. C=10, kernel=Linear, total=   0.0s\n",
      "[CV] C=10, kernel=Linear .............................................\n",
      "[CV] .............................. C=10, kernel=Linear, total=   0.0s\n",
      "[CV] C=10, kernel=Linear .............................................\n",
      "[CV] .............................. C=10, kernel=Linear, total=   0.0s\n",
      "[CV] C=10, kernel=rbf ................................................\n",
      "[CV] ................................. C=10, kernel=rbf, total=  18.6s\n",
      "[CV] C=10, kernel=rbf ................................................\n",
      "[CV] ................................. C=10, kernel=rbf, total=  18.5s\n",
      "[CV] C=10, kernel=rbf ................................................\n",
      "[CV] ................................. C=10, kernel=rbf, total=  19.2s\n",
      "[CV] C=10, kernel=rbf ................................................\n",
      "[CV] ................................. C=10, kernel=rbf, total=  19.0s\n",
      "[CV] C=10, kernel=rbf ................................................\n",
      "[CV] ................................. C=10, kernel=rbf, total=  18.8s\n"
     ]
    },
    {
     "name": "stderr",
     "output_type": "stream",
     "text": [
      "[Parallel(n_jobs=1)]: Done  20 out of  20 | elapsed:  3.0min finished\n"
     ]
    },
    {
     "data": {
      "text/plain": [
       "GridSearchCV(cv=None, error_score=nan,\n",
       "             estimator=SVC(C=1.0, break_ties=False, cache_size=200,\n",
       "                           class_weight=None, coef0=0.0,\n",
       "                           decision_function_shape='ovr', degree=3,\n",
       "                           gamma='scale', kernel='rbf', max_iter=-1,\n",
       "                           probability=False, random_state=None, shrinking=True,\n",
       "                           tol=0.001, verbose=False),\n",
       "             iid='deprecated', n_jobs=None,\n",
       "             param_grid={'C': [1, 10], 'kernel': ('Linear', 'rbf')},\n",
       "             pre_dispatch='2*n_jobs', refit=True, return_train_score=False,\n",
       "             scoring=None, verbose=2)"
      ]
     },
     "execution_count": 43,
     "metadata": {},
     "output_type": "execute_result"
    }
   ],
   "source": [
    "grid_svm.fit(X_train, y_train)"
   ]
  },
  {
   "cell_type": "code",
   "execution_count": 47,
   "id": "fc6cb7f6",
   "metadata": {},
   "outputs": [
    {
     "data": {
      "text/plain": [
       "SVC(C=10, break_ties=False, cache_size=200, class_weight=None, coef0=0.0,\n",
       "    decision_function_shape='ovr', degree=3, gamma='scale', kernel='rbf',\n",
       "    max_iter=-1, probability=False, random_state=None, shrinking=True,\n",
       "    tol=0.001, verbose=False)"
      ]
     },
     "execution_count": 47,
     "metadata": {},
     "output_type": "execute_result"
    }
   ],
   "source": [
    "final_model_svm = grid_svm.best_estimator_\n",
    "final_model_svm"
   ]
  },
  {
   "cell_type": "code",
   "execution_count": 49,
   "id": "1d7b4bc5",
   "metadata": {},
   "outputs": [],
   "source": [
    "final_model_svm.fit(X_train, y_train)\n",
    "run.log('C', grid_svm.get_params(deep=True)['estimator__C'])\n",
    "run.log('kernel', grid_svm.get_params(deep=True)['estimator__kernel'] )"
   ]
  },
  {
   "cell_type": "code",
   "execution_count": 50,
   "id": "1459e347",
   "metadata": {},
   "outputs": [],
   "source": [
    "# Test model\n",
    "from sklearn.metrics import accuracy_score, f1_score, precision_score, recall_score"
   ]
  },
  {
   "cell_type": "code",
   "execution_count": 52,
   "id": "2afb63ae",
   "metadata": {},
   "outputs": [],
   "source": [
    "y_pred = final_model_svm.predict(X_validation)"
   ]
  },
  {
   "cell_type": "code",
   "execution_count": 58,
   "id": "96449ce1",
   "metadata": {},
   "outputs": [
    {
     "name": "stdout",
     "output_type": "stream",
     "text": [
      "Accuracy: 0.9558709175738724\n",
      "Precision: 0.9661558573607378\n",
      "Rappel: 0.9840952803669182\n",
      "F1_score: 0.9750430607981823\n"
     ]
    }
   ],
   "source": [
    "acc = accuracy_score(y_validation, y_pred)\n",
    "precision = precision_score(y_validation, y_pred)\n",
    "recall = recall_score(y_validation, y_pred)\n",
    "score = f1_score(y_validation, y_pred)\n",
    "print(f'Accuracy: {acc}\\nPrecision: {precision}\\nRappel: {recall}\\nF1_score: {score}')"
   ]
  },
  {
   "cell_type": "code",
   "execution_count": 60,
   "id": "2fc3eaa7",
   "metadata": {},
   "outputs": [],
   "source": [
    "import git\n",
    "repo = git.Repo(search_parent_directories=True)\n",
    "sha = repo.head.object.hexsha"
   ]
  },
  {
   "cell_type": "code",
   "execution_count": 61,
   "id": "0728106b",
   "metadata": {},
   "outputs": [],
   "source": [
    "run.log(\"Accuracy\", acc)\n",
    "run.log(\"Precision\", precision)\n",
    "run.log('Rappel', recall)\n",
    "run.log(\"f1_score\", score)\n",
    "run.log(\"fGit-sha\", sha)"
   ]
  },
  {
   "cell_type": "code",
   "execution_count": 62,
   "id": "1ec0e3b6",
   "metadata": {},
   "outputs": [
    {
     "name": "stdout",
     "output_type": "stream",
     "text": [
      "run id: ed1bbf68-44f0-4f83-b2c0-c0406d02545b\n"
     ]
    }
   ],
   "source": [
    "run.complete()\n",
    "print(f'run id: {run.id}')"
   ]
  },
  {
   "cell_type": "code",
   "execution_count": 63,
   "id": "2ea1404e",
   "metadata": {},
   "outputs": [],
   "source": [
    "mlflow.end_run()"
   ]
  },
  {
   "cell_type": "code",
   "execution_count": 64,
   "id": "dab6ea8f",
   "metadata": {},
   "outputs": [
    {
     "data": {
      "text/plain": [
       "{'dataset name:': 'training dataset',\n",
       " 'dataset version:': 1,\n",
       " 'C': 1.0,\n",
       " 'kernel': 'rbf',\n",
       " 'Accuracy': 0.9558709175738724,\n",
       " 'Precision': 0.9661558573607378,\n",
       " 'Rappel': 0.9840952803669182,\n",
       " 'f1_score': 0.9750430607981823,\n",
       " 'fGit-sha': '57b765480a8bc85fdcfb95fa0b925cce3af28cba'}"
      ]
     },
     "execution_count": 64,
     "metadata": {},
     "output_type": "execute_result"
    }
   ],
   "source": [
    "run.get_metrics()"
   ]
  },
  {
   "cell_type": "code",
   "execution_count": 68,
   "id": "3a068c33",
   "metadata": {},
   "outputs": [],
   "source": [
    "import mlflow.sklearn\n",
    "mlflow.sklearn.log_model(final_model_svm, 'outputs')"
   ]
  },
  {
   "cell_type": "markdown",
   "id": "89ef87e9",
   "metadata": {},
   "source": [
    "* Random Forest"
   ]
  },
  {
   "cell_type": "code",
   "execution_count": 69,
   "id": "a3a7c7bf",
   "metadata": {},
   "outputs": [
    {
     "name": "stdout",
     "output_type": "stream",
     "text": [
      "INFO: 'mlflow-Random-Forest' does not exist. Creating a new experiment\n"
     ]
    }
   ],
   "source": [
    "# Initialise experiment in Azue ML Worskspace\n",
    "experiment = Experiment(workspace, \"Random-Forest\")\n",
    "#Initialise in mlflow\n",
    "mlflow.set_experiment(\"mlflow-Random-Forest\")"
   ]
  },
  {
   "cell_type": "code",
   "execution_count": 70,
   "id": "63bf3cca",
   "metadata": {},
   "outputs": [],
   "source": [
    "from sklearn.ensemble import RandomForestClassifier\n",
    "forest_clf = RandomForestClassifier(max_depth=10, random_state=42, n_estimators=100)"
   ]
  },
  {
   "cell_type": "code",
   "execution_count": 74,
   "id": "a8546097",
   "metadata": {},
   "outputs": [],
   "source": [
    "mlflow.end_run()"
   ]
  },
  {
   "cell_type": "code",
   "execution_count": 75,
   "id": "c891f299",
   "metadata": {},
   "outputs": [],
   "source": [
    "run = experiment.start_logging()\n",
    "mlflow.start_run()\n",
    "\n",
    "run.log(\"dataset name\", dataset.name)\n",
    "run.log(\"dataset version\", dataset.version)"
   ]
  },
  {
   "cell_type": "code",
   "execution_count": 76,
   "id": "c9146352",
   "metadata": {},
   "outputs": [
    {
     "name": "stdout",
     "output_type": "stream",
     "text": [
      "CPU times: user 6.22 s, sys: 2.17 ms, total: 6.22 s\n",
      "Wall time: 6.34 s\n"
     ]
    },
    {
     "data": {
      "text/plain": [
       "RandomForestClassifier(bootstrap=True, ccp_alpha=0.0, class_weight=None,\n",
       "                       criterion='gini', max_depth=10, max_features='auto',\n",
       "                       max_leaf_nodes=None, max_samples=None,\n",
       "                       min_impurity_decrease=0.0, min_impurity_split=None,\n",
       "                       min_samples_leaf=1, min_samples_split=2,\n",
       "                       min_weight_fraction_leaf=0.0, n_estimators=100,\n",
       "                       n_jobs=None, oob_score=False, random_state=42, verbose=0,\n",
       "                       warm_start=False)"
      ]
     },
     "execution_count": 76,
     "metadata": {},
     "output_type": "execute_result"
    }
   ],
   "source": [
    "%%time\n",
    "forest_clf.fit(X_train, y_train)"
   ]
  },
  {
   "cell_type": "code",
   "execution_count": 77,
   "id": "b0b79add",
   "metadata": {},
   "outputs": [],
   "source": [
    "run.log(\"max_depth\", 10)\n",
    "run.log(\"random_state\", 42)\n",
    "run.log(\"n_estimators\", 500)"
   ]
  },
  {
   "cell_type": "code",
   "execution_count": 78,
   "id": "e5a66a18",
   "metadata": {},
   "outputs": [],
   "source": [
    "predicted_forest = forest_clf.predict(X_validation)"
   ]
  },
  {
   "cell_type": "code",
   "execution_count": 79,
   "id": "53724e7a",
   "metadata": {},
   "outputs": [
    {
     "name": "stdout",
     "output_type": "stream",
     "text": [
      "Accuracy: 0.9569077242094349\n",
      "Precision: 0.9700826567186014\n",
      "Rappel: 0.9810622873206095\n",
      "F1_score: 0.9755415793151642\n"
     ]
    }
   ],
   "source": [
    "acc_forest = accuracy_score(y_validation, predicted_forest)\n",
    "precision_forest = precision_score(y_validation, predicted_forest)\n",
    "recall_forest = recall_score(y_validation, predicted_forest)\n",
    "score_forest = f1_score(y_validation, predicted_forest)\n",
    "print(f'Accuracy: {acc_forest}\\nPrecision: {precision_forest}\\nRappel: {recall_forest}\\nF1_score: {score_forest}')"
   ]
  },
  {
   "cell_type": "code",
   "execution_count": 80,
   "id": "86a26534",
   "metadata": {},
   "outputs": [],
   "source": [
    "run.log(\"Accuracy_forest\", acc_forest )\n",
    "run.log(\"Precision_forest\", precision_forest )\n",
    "run.log(\"Recall_forest\", recall_forest )\n",
    "run.log(\"F1_score_forest\", score_forest )"
   ]
  },
  {
   "cell_type": "code",
   "execution_count": 81,
   "id": "5a151e4d",
   "metadata": {},
   "outputs": [
    {
     "name": "stdout",
     "output_type": "stream",
     "text": [
      "run id: cbe8177b-28a4-4293-8010-f7a958067b97\n"
     ]
    }
   ],
   "source": [
    "run.complete()\n",
    "print(f'run id: {run.id}')"
   ]
  },
  {
   "cell_type": "code",
   "execution_count": 82,
   "id": "4339fd3d",
   "metadata": {},
   "outputs": [],
   "source": [
    "mlflow.end_run()"
   ]
  },
  {
   "cell_type": "code",
   "execution_count": 83,
   "id": "50aac5f5",
   "metadata": {},
   "outputs": [
    {
     "data": {
      "text/plain": [
       "{'dataset name': 'training dataset',\n",
       " 'dataset version': 1,\n",
       " 'max_depth': 10,\n",
       " 'random_state': 42,\n",
       " 'n_estimators': 500,\n",
       " 'Accuracy_forest': 0.9569077242094349,\n",
       " 'Precision_forest': 0.9700826567186014,\n",
       " 'Recall_forest': 0.9810622873206095,\n",
       " 'F1_score_forest': 0.9755415793151642}"
      ]
     },
     "execution_count": 83,
     "metadata": {},
     "output_type": "execute_result"
    }
   ],
   "source": [
    "run.get_metrics()"
   ]
  },
  {
   "cell_type": "markdown",
   "id": "d7969f03",
   "metadata": {},
   "source": [
    "## Packaging Model"
   ]
  },
  {
   "cell_type": "code",
   "execution_count": 86,
   "id": "b18b015a",
   "metadata": {},
   "outputs": [
    {
     "name": "stderr",
     "output_type": "stream",
     "text": [
      "The maximum opset needed by this model is only 1.\n"
     ]
    }
   ],
   "source": [
    "# We'll use ONNX standard to avoid compatibilities and interoprebilities issues\n",
    "from skl2onnx import convert_sklearn\n",
    "from skl2onnx.common.data_types import FloatTensorType\n",
    "\n",
    "initial_type = [('float_input', FloatTensorType([None, 6]))]\n",
    "onx = convert_sklearn(final_model_svm, initial_types=initial_type)\n",
    "with open(\"outputs/final_model_svm.onnx\", \"wb\") as f:\n",
    "    f.write(onx.SerializeToString())"
   ]
  },
  {
   "cell_type": "code",
   "execution_count": 88,
   "id": "cf7c595b",
   "metadata": {},
   "outputs": [
    {
     "name": "stderr",
     "output_type": "stream",
     "text": [
      "The maximum opset needed by this model is only 1.\n",
      "The maximum opset needed by this model is only 9.\n"
     ]
    }
   ],
   "source": [
    "from skl2onnx import convert_sklearn\n",
    "from skl2onnx.common.data_types import FloatTensorType\n",
    "\n",
    "initial_type = [('float_type', FloatTensorType([None, 6]))]\n",
    "onx = convert_sklearn(forest_clf, initial_types=initial_type)\n",
    "with open(\"outputs/forest_clf.onnx\", \"wb\") as f:\n",
    "    f.write(onx.SerializeToString())"
   ]
  },
  {
   "cell_type": "markdown",
   "id": "db8d0b60",
   "metadata": {},
   "source": [
    "## Registering Model"
   ]
  },
  {
   "cell_type": "code",
   "execution_count": 92,
   "id": "7b9f8120",
   "metadata": {},
   "outputs": [
    {
     "name": "stdout",
     "output_type": "stream",
     "text": [
      "Registering model Support-vector-Classifier\n",
      "Model Name: Support-vector-Classifier\n",
      "Model version: 1\n"
     ]
    }
   ],
   "source": [
    "# Register SVM model\n",
    "model = Model.register(workspace = workspace,\n",
    "                       model_path = 'outputs/final_model_svm.onnx',\n",
    "                       tags = {'dataset': dataset.name, 'version': dataset.version, 'Hyperparameter-C':'10', 'testdata-accuracy':'0.9558'},\n",
    "                       model_framework = 'pandas==0.23.4',\n",
    "                       model_name = 'Support-vector-Classifier', \n",
    "                       description = 'SVM classification to predict weather')\n",
    "\n",
    "print(f'Model Name: {model.name}\\nModel version: {model.version}')"
   ]
  },
  {
   "cell_type": "code",
   "execution_count": 94,
   "id": "0414c934",
   "metadata": {},
   "outputs": [
    {
     "name": "stdout",
     "output_type": "stream",
     "text": [
      "Registering model Random-Forest-Classifier\n",
      "Model Name: Random-Forest-Classifier\n",
      "Model version: 1\n"
     ]
    }
   ],
   "source": [
    "#Register Random Classifier Model\n",
    "model = Model.register(workspace=workspace,\n",
    "                      model_path = 'outputs/forest_clf.onnx',\n",
    "                      model_name = 'Random-Forest-Classifier',\n",
    "                      tags = {'dataset': dataset.name, 'version':dataset.version, 'testdata-accuracy':'0.9569'},\n",
    "                      model_framework = 'pandas==0.23.4',\n",
    "                      description = 'Random-Forest to forcast Weather')\n",
    "\n",
    "print(f'Model Name: {model.name}\\nModel version: {model.version}')"
   ]
  },
  {
   "cell_type": "code",
   "execution_count": 95,
   "id": "282b62ed",
   "metadata": {},
   "outputs": [],
   "source": [
    "# Registering Artefacts\n",
    "import pickle as pkl\n",
    "\n",
    "with open(\"outputs/scaler.pkl\", \"wb\") as f:\n",
    "    pkl.dump(sc, f)"
   ]
  },
  {
   "cell_type": "code",
   "execution_count": 99,
   "id": "496c7616",
   "metadata": {},
   "outputs": [
    {
     "name": "stdout",
     "output_type": "stream",
     "text": [
      "Registering model Scaler\n",
      "Model name: Scaler\n",
      "Model version: 1\n"
     ]
    }
   ],
   "source": [
    "model = Model.register(workspace = workspace,\n",
    "                      model_path = 'outputs/scaler.pkl',\n",
    "                      model_name = 'Scaler',\n",
    "                      tags = {'dataset': dataset.name, 'version':dataset.version},\n",
    "                      description = 'Scaler for scaling inference data into test or production environnement',\n",
    "                      model_framework = 'pandas==0.23.4')\n",
    "                      \n",
    "print(f'Model name: {model.name}\\nModel version: {model.version}')"
   ]
  },
  {
   "cell_type": "code",
   "execution_count": 100,
   "id": "e08bfd40",
   "metadata": {},
   "outputs": [],
   "source": [
    "mlflow.sklearn.log_model(final_model_svm, 'outputs/final_model_svm.onnx')"
   ]
  },
  {
   "cell_type": "code",
   "execution_count": 101,
   "id": "cff34dab",
   "metadata": {},
   "outputs": [],
   "source": [
    "mlflow.sklearn.log_model(forest_clf, 'outputs/forest_clf.onnx')"
   ]
  },
  {
   "cell_type": "code",
   "execution_count": null,
   "id": "35733188",
   "metadata": {},
   "outputs": [],
   "source": []
  }
 ],
 "metadata": {
  "kernelspec": {
   "display_name": "Python 3.6 - AzureML",
   "language": "python",
   "name": "python3-azureml"
  },
  "language_info": {
   "codemirror_mode": {
    "name": "ipython",
    "version": 3
   },
   "file_extension": ".py",
   "mimetype": "text/x-python",
   "name": "python",
   "nbconvert_exporter": "python",
   "pygments_lexer": "ipython3",
   "version": "3.6.9"
  }
 },
 "nbformat": 4,
 "nbformat_minor": 5
}
