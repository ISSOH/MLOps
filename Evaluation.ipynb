{
 "cells": [
  {
   "cell_type": "code",
   "execution_count": 1,
   "id": "a2451730",
   "metadata": {},
   "outputs": [],
   "source": [
    "import pandas as pd\n",
    "import numpy as np\n",
    "import warnings\n",
    "warnings.filterwarnings('ignore')\n",
    " \n",
    "from azureml.core import Experiment\n",
    "from azureml.core import Workspace\n",
    "from azureml.core import Model\n",
    "from azureml.core import Run"
   ]
  },
  {
   "cell_type": "code",
   "execution_count": 2,
   "id": "6b313080",
   "metadata": {},
   "outputs": [
    {
     "name": "stdout",
     "output_type": "stream",
     "text": [
      "Workspace.create(name='mlops_ws', subscription_id='6f507867-3280-4f79-8820-9939bef45222', resource_group='learn_mlops')\n"
     ]
    }
   ],
   "source": [
    "ws = Workspace.from_config()\n",
    "print(ws)"
   ]
  },
  {
   "cell_type": "code",
   "execution_count": 3,
   "id": "175547d4",
   "metadata": {},
   "outputs": [
    {
     "data": {
      "text/plain": [
       "'scaler.pkl'"
      ]
     },
     "execution_count": 3,
     "metadata": {},
     "output_type": "execute_result"
    }
   ],
   "source": [
    "# import scaler in order to scale inference data\n",
    "scaler = Model(workspace=ws, name='Scaler').download(exist_ok=True)\n",
    "scaler"
   ]
  },
  {
   "cell_type": "code",
   "execution_count": 4,
   "id": "2afae779",
   "metadata": {},
   "outputs": [
    {
     "data": {
      "text/plain": [
       "'final_model_svm.onnx'"
      ]
     },
     "execution_count": 4,
     "metadata": {},
     "output_type": "execute_result"
    }
   ],
   "source": [
    "# import model\n",
    "svm_clf = Model(workspace=ws, name='Support-vector-Classifier').download(exist_ok=True)\n",
    "svm_clf"
   ]
  },
  {
   "cell_type": "code",
   "execution_count": 5,
   "id": "6364a957",
   "metadata": {},
   "outputs": [],
   "source": [
    "# Load files\n",
    "import pickle\n",
    "with open('scaler.pkl', \"rb\") as file:\n",
    "    scaler = pickle.load(file)"
   ]
  },
  {
   "cell_type": "code",
   "execution_count": 6,
   "id": "d7470e6b",
   "metadata": {},
   "outputs": [
    {
     "name": "stdout",
     "output_type": "stream",
     "text": [
      "float_input\n",
      "label\n"
     ]
    }
   ],
   "source": [
    "# Test model\n",
    "import onnxruntime as ot\n",
    "session = ot.InferenceSession('final_model_svm.onnx')\n",
    "input_name = session.get_inputs()[0].name\n",
    "label_name = session.get_outputs()[0].name\n",
    "print(f'{input_name}\\n{label_name}')"
   ]
  },
  {
   "cell_type": "code",
   "execution_count": 8,
   "id": "267ec545",
   "metadata": {},
   "outputs": [],
   "source": [
    "test_dt = np.array([34.927778, 0.24, 7.3899, 83, 16.1000, 1])\n",
    "# testdata = np.array([34.927778, 0.24, 7.3899, 83, 16.1000, 1])"
   ]
  },
  {
   "cell_type": "code",
   "execution_count": 9,
   "id": "dd97ac6c",
   "metadata": {},
   "outputs": [
    {
     "data": {
      "text/plain": [
       "array([[ 2.46722511, -2.55023307, -0.50179214, -0.98204652,  1.46007411,\n",
       "        -8.91194434]])"
      ]
     },
     "execution_count": 9,
     "metadata": {},
     "output_type": "execute_result"
    }
   ],
   "source": [
    "test_data = scaler.transform(test_dt.reshape(1, 6))\n",
    "test_data"
   ]
  },
  {
   "cell_type": "code",
   "execution_count": 16,
   "id": "471e6329",
   "metadata": {},
   "outputs": [
    {
     "data": {
      "text/plain": [
       "[1]"
      ]
     },
     "execution_count": 16,
     "metadata": {},
     "output_type": "execute_result"
    }
   ],
   "source": [
    "pred_onx = session.run([label_name], {input_name: test_data.astype(np.float32)})[0]\n",
    "pred_onx.tolist()"
   ]
  },
  {
   "cell_type": "code",
   "execution_count": null,
   "id": "03607392",
   "metadata": {},
   "outputs": [],
   "source": []
  }
 ],
 "metadata": {
  "kernelspec": {
   "display_name": "Python 3.6 - AzureML",
   "language": "python",
   "name": "python3-azureml"
  },
  "language_info": {
   "codemirror_mode": {
    "name": "ipython",
    "version": 3
   },
   "file_extension": ".py",
   "mimetype": "text/x-python",
   "name": "python",
   "nbconvert_exporter": "python",
   "pygments_lexer": "ipython3",
   "version": "3.6.9"
  }
 },
 "nbformat": 4,
 "nbformat_minor": 5
}
