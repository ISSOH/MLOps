{
 "cells": [
  {
   "cell_type": "code",
   "execution_count": 1,
   "id": "cabe83da",
   "metadata": {},
   "outputs": [],
   "source": [
    "import numpy as np\n",
    "import pandas as pd\n",
    "import warnings\n",
    "warnings.filterwarnings('ignore')\n",
    "\n",
    "from azureml.core import Model\n",
    "from azureml.core import Experiment\n",
    "from azureml.core import Workspace"
   ]
  },
  {
   "cell_type": "code",
   "execution_count": 2,
   "id": "0126a942",
   "metadata": {},
   "outputs": [
    {
     "name": "stdout",
     "output_type": "stream",
     "text": [
      "AZURE ML SDK VERSION: 1.31.0\n"
     ]
    }
   ],
   "source": [
    "import azureml.core\n",
    "print(f'AZURE ML SDK VERSION: {azureml.core.VERSION}')"
   ]
  },
  {
   "cell_type": "code",
   "execution_count": 3,
   "id": "40822adc",
   "metadata": {},
   "outputs": [
    {
     "name": "stdout",
     "output_type": "stream",
     "text": [
      "Workspace.create(name='mlops_ws', subscription_id='6f507867-3280-4f79-8820-9939bef45222', resource_group='learn_mlops')\n"
     ]
    }
   ],
   "source": [
    "ws = Workspace.from_config()\n",
    "print(ws)"
   ]
  },
  {
   "cell_type": "markdown",
   "id": "ec88e3d0",
   "metadata": {},
   "source": [
    "### Define Environnement"
   ]
  },
  {
   "cell_type": "code",
   "execution_count": 4,
   "id": "e1eac2de",
   "metadata": {},
   "outputs": [],
   "source": [
    "from azureml.core.environment import Environment\n",
    "from azureml.core.model import InferenceConfig"
   ]
  },
  {
   "cell_type": "code",
   "execution_count": 5,
   "id": "b15cd29a",
   "metadata": {},
   "outputs": [],
   "source": [
    "env = Environment(name='my_env')"
   ]
  },
  {
   "cell_type": "code",
   "execution_count": 6,
   "id": "7e33799b",
   "metadata": {},
   "outputs": [],
   "source": [
    "for pip_package in [\"numpy\", \"onnxruntime\", \"joblib\", \"azureml-core\", \"azureml-monitoring\", \"azureml-defaults\", \n",
    "                    \"scikit-learn==0.22.2\", \"inference-schema\", \"inference-schema[numpy-support]\"]:\n",
    "    env.python.conda_dependencies.add_pip_package(pip_package)\n",
    "    \n",
    "inference_config = InferenceConfig(entry_script='score.py', environment=env)"
   ]
  },
  {
   "cell_type": "code",
   "execution_count": 7,
   "id": "d62a4413",
   "metadata": {},
   "outputs": [
    {
     "data": {
      "text/plain": [
       "{\n",
       "    \"databricks\": {\n",
       "        \"eggLibraries\": [],\n",
       "        \"jarLibraries\": [],\n",
       "        \"mavenLibraries\": [],\n",
       "        \"pypiLibraries\": [],\n",
       "        \"rcranLibraries\": []\n",
       "    },\n",
       "    \"docker\": {\n",
       "        \"arguments\": [],\n",
       "        \"baseDockerfile\": null,\n",
       "        \"baseImage\": \"mcr.microsoft.com/azureml/openmpi3.1.2-ubuntu18.04:20210531.v1\",\n",
       "        \"baseImageRegistry\": {\n",
       "            \"address\": null,\n",
       "            \"password\": null,\n",
       "            \"registryIdentity\": null,\n",
       "            \"username\": null\n",
       "        },\n",
       "        \"enabled\": false,\n",
       "        \"platform\": {\n",
       "            \"architecture\": \"amd64\",\n",
       "            \"os\": \"Linux\"\n",
       "        },\n",
       "        \"sharedVolumes\": true,\n",
       "        \"shmSize\": \"2g\"\n",
       "    },\n",
       "    \"environmentVariables\": {\n",
       "        \"EXAMPLE_ENV_VAR\": \"EXAMPLE_VALUE\"\n",
       "    },\n",
       "    \"inferencingStackVersion\": null,\n",
       "    \"name\": \"my_env\",\n",
       "    \"python\": {\n",
       "        \"baseCondaEnvironment\": null,\n",
       "        \"condaDependencies\": {\n",
       "            \"channels\": [\n",
       "                \"anaconda\",\n",
       "                \"conda-forge\"\n",
       "            ],\n",
       "            \"dependencies\": [\n",
       "                \"python=3.6.2\",\n",
       "                {\n",
       "                    \"pip\": [\n",
       "                        \"numpy\",\n",
       "                        \"onnxruntime\",\n",
       "                        \"joblib\",\n",
       "                        \"azureml-core\",\n",
       "                        \"azureml-monitoring\",\n",
       "                        \"azureml-defaults\",\n",
       "                        \"scikit-learn==0.22.2\",\n",
       "                        \"inference-schema[numpy-support]\"\n",
       "                    ]\n",
       "                }\n",
       "            ],\n",
       "            \"name\": \"project_environment\"\n",
       "        },\n",
       "        \"condaDependenciesFile\": null,\n",
       "        \"interpreterPath\": \"python\",\n",
       "        \"userManagedDependencies\": false\n",
       "    },\n",
       "    \"r\": null,\n",
       "    \"spark\": {\n",
       "        \"packages\": [],\n",
       "        \"precachePackages\": true,\n",
       "        \"repositories\": []\n",
       "    },\n",
       "    \"version\": null\n",
       "}"
      ]
     },
     "execution_count": 7,
     "metadata": {},
     "output_type": "execute_result"
    }
   ],
   "source": [
    "env"
   ]
  },
  {
   "cell_type": "markdown",
   "id": "cb55b2e3",
   "metadata": {},
   "source": [
    "### Deployment configuration"
   ]
  },
  {
   "cell_type": "code",
   "execution_count": 8,
   "id": "aae1e9e4",
   "metadata": {},
   "outputs": [
    {
     "data": {
      "text/plain": [
       "<azureml.core.webservice.aks.AksServiceDeploymentConfiguration at 0x7fe1e1e3cdd8>"
      ]
     },
     "execution_count": 8,
     "metadata": {},
     "output_type": "execute_result"
    }
   ],
   "source": [
    "from azureml.core.webservice import AksWebservice\n",
    "\n",
    "deploy_config = AksWebservice.deploy_configuration(collect_model_data=True)\n",
    "deploy_config"
   ]
  },
  {
   "cell_type": "markdown",
   "id": "d1011ba4",
   "metadata": {},
   "source": [
    "### Deploy webservice"
   ]
  },
  {
   "cell_type": "code",
   "execution_count": 9,
   "id": "c8b183a7",
   "metadata": {},
   "outputs": [],
   "source": [
    "from azureml.core.compute import AksCompute, ComputeTarget\n",
    "from azureml.core.compute_target import ComputeTargetException"
   ]
  },
  {
   "cell_type": "code",
   "execution_count": 11,
   "id": "1964b602",
   "metadata": {},
   "outputs": [
    {
     "name": "stdout",
     "output_type": "stream",
     "text": [
      "Creating.....................................................................................................................................\n",
      "SucceededProvisioning operation finished, operation \"Succeeded\"\n"
     ]
    }
   ],
   "source": [
    "# name for cluster Kubernetes\n",
    "ask_name = 'myask-cluster'\n",
    "#ask_target = ComputeTarget(workspace=ws, name=ask_name)\n",
    "#print('Found existing cluster Kubernetes....')\n",
    "# provisioning configuration with default parameters\n",
    "prov_config = AksCompute.provisioning_configuration(cluster_purpose = AksCompute.ClusterPurpose.DEV_TEST)\n",
    "ask_target = ComputeTarget.create(workspace = ws, name = ask_name, provisioning_configuration = prov_config)\n",
    "ask_target.wait_for_completion(show_output = True)"
   ]
  },
  {
   "cell_type": "code",
   "execution_count": 13,
   "id": "bdd3f67a",
   "metadata": {},
   "outputs": [],
   "source": [
    "model1 = Model(workspace=ws, name='Scaler')\n",
    "model2 = Model(workspace=ws, name=\"Support-vector-Classifier\")\n",
    "\n",
    "service_name = \"weather-ask-prediction\""
   ]
  },
  {
   "cell_type": "code",
   "execution_count": 19,
   "id": "e456c333",
   "metadata": {},
   "outputs": [
    {
     "name": "stdout",
     "output_type": "stream",
     "text": [
      "Tips: You can try get_logs(): https://aka.ms/debugimage#dockerlog or local deployment: https://aka.ms/debugimage#debug-locally to debug if deployment takes longer than 10 minutes.\n",
      "Running\n",
      "2021-07-20 12:29:33+00:00 Creating Container Registry if not exists.\n",
      "2021-07-20 12:29:33+00:00 Registering the environment.\n",
      "2021-07-20 12:29:35+00:00 Use the existing image.\n",
      "2021-07-20 12:29:37+00:00 Creating resources in AKS..\n",
      "2021-07-20 12:29:37+00:00 Submitting deployment to compute.\n",
      "2021-07-20 12:29:38+00:00 Checking the status of deployment weather-ask-prediction..\n",
      "2021-07-20 12:31:18+00:00 Checking the status of inference endpoint weather-ask-prediction.\n",
      "Succeeded\n",
      "AKS service creation operation finished, operation \"Succeeded\"\n",
      "Healthy\n"
     ]
    }
   ],
   "source": [
    "service = Model.deploy(ws, service_name, models=[model1, model2], inference_config=inference_config, deployment_config=deploy_config, \n",
    "                       deployment_target=ask_target)\n",
    "service.wait_for_deployment(show_output=True)\n",
    "print(service.state)"
   ]
  },
  {
   "cell_type": "code",
   "execution_count": 20,
   "id": "3964bd13",
   "metadata": {},
   "outputs": [
    {
     "name": "stdout",
     "output_type": "stream",
     "text": [
      "2021-07-20T12:31:14,918049257+00:00 - iot-server/run \n",
      "2021-07-20T12:31:14,918118959+00:00 - gunicorn/run \n",
      "File not found: /var/azureml-app/.\n",
      "Starting HTTP server\n",
      "2021-07-20T12:31:14,918850181+00:00 - rsyslog/run \n",
      "2021-07-20T12:31:14,996384270+00:00 - nginx/run \n",
      "EdgeHubConnectionString and IOTEDGE_IOTHUBHOSTNAME are not set. Exiting...\n",
      "2021-07-20T12:31:15,086281140+00:00 - iot-server/finish 1 0\n",
      "2021-07-20T12:31:15,088482208+00:00 - Exit code 1 is normal. Not restarting iot-server.\n",
      "Starting gunicorn 20.1.0\n",
      "Listening at: http://127.0.0.1:31311 (12)\n",
      "Using worker: sync\n",
      "worker timeout is set to 300\n",
      "Booting worker with pid: 40\n",
      "SPARK_HOME not set. Skipping PySpark Initialization.\n",
      "Initializing logger\n",
      "2021-07-20 12:31:16,808 | root | INFO | Starting up app insights client\n",
      "logging socket was found. logging is available.\n",
      "logging socket was found. logging is available.\n",
      "2021-07-20 12:31:16,809 | root | INFO | Starting up request id generator\n",
      "2021-07-20 12:31:16,809 | root | INFO | Starting up app insight hooks\n",
      "2021-07-20 12:31:16,809 | root | INFO | Invoking user's init function\n",
      "no request id,/azureml-envs/azureml_c5231af77d54614cbcbac3be44e0195a/lib/python3.6/site-packages/sklearn/base.py:318: UserWarning: Trying to unpickle estimator StandardScaler from version 0.22.2.post1 when using version 0.22.2. This might lead to breaking code or invalid results. Use at your own risk.\n",
      "  UserWarning)\n",
      "\n",
      "2021-07-20 12:31:17,156 - azureml.monitoring._logging.telemetry_logger.modeldatacollector - INFO - ActivityStarted, mdc_init - activity_id:fbe957f2-8ea7-4d69-89da-3c8f43aaf339 activity_name:mdc_init activity_type:InternalCall sdk_version:1.32.0 telemetry_component_name:azureml.monitoring arm_id:6f507867-3280-4f79-8820-9939bef45222/learn_mlops/mlops_ws location:northeurope hostname:weather-ask-prediction-54c94784db-l75ds sampling_rate:0.01\n",
      "2021-07-20 12:31:17,159 - azureml.monitoring._logging.telemetry_logger.modeldatacollector - INFO - MDC is initialized - activity_id:fbe957f2-8ea7-4d69-89da-3c8f43aaf339 activity_name:mdc_init activity_type:InternalCall sdk_version:1.32.0 telemetry_component_name:azureml.monitoring arm_id:6f507867-3280-4f79-8820-9939bef45222/learn_mlops/mlops_ws location:northeurope hostname:weather-ask-prediction-54c94784db-l75ds sampling_rate:0.01\n",
      "2021-07-20 12:31:17,166 - azureml.monitoring._logging.telemetry_logger.modeldatacollector - INFO - ActivityCompleted: Activity=mdc_init, HowEnded=Success, Duration=10.15 [ms] - activity_id:fbe957f2-8ea7-4d69-89da-3c8f43aaf339 activity_name:mdc_init activity_type:InternalCall completionStatus:Success durationMs:10.15 sdk_version:1.32.0 telemetry_component_name:azureml.monitoring arm_id:6f507867-3280-4f79-8820-9939bef45222/learn_mlops/mlops_ws location:northeurope hostname:weather-ask-prediction-54c94784db-l75ds sampling_rate:0.01\n",
      "Incorrect designation value. Supported values: 'default', 'inputs', 'predictions', 'labels', 'signals', 'general'\n",
      "no request id,Incorrect designation value. Supported values: 'default', 'inputs', 'predictions', 'labels', 'signals', 'general'\n",
      "\n",
      "2021-07-20 12:31:17,167 | root | INFO | Users's init has completed successfully\n",
      "/azureml-envs/azureml_c5231af77d54614cbcbac3be44e0195a/lib/python3.6/site-packages/sklearn/base.py:318: UserWarning: Trying to unpickle estimator StandardScaler from version 0.22.2.post1 when using version 0.22.2. This might lead to breaking code or invalid results. Use at your own risk.\n",
      "  UserWarning)\n",
      "2021-07-20 12:31:17,170 | root | INFO | Skipping middleware: dbg_model_info as it's not enabled.\n",
      "2021-07-20 12:31:17,170 | root | INFO | Skipping middleware: dbg_resource_usage as it's not enabled.\n",
      "2021-07-20 12:31:17,170 | root | INFO | Scoring timeout setting is not found. Use default timeout: 3600000 ms\n",
      "2021-07-20 12:31:18,633 | root | INFO | Swagger file not present\n",
      "2021-07-20 12:31:18,633 | root | INFO | 404\n",
      "127.0.0.1 - - [20/Jul/2021:12:31:18 +0000] \"GET /swagger.json HTTP/1.0\" 404 19 \"-\" \"hackney/1.17.4\"\n",
      "2021-07-20 12:31:18,856 | root | INFO | Swagger file not present\n",
      "2021-07-20 12:31:18,856 | root | INFO | 404\n",
      "127.0.0.1 - - [20/Jul/2021:12:31:18 +0000] \"GET /swagger.json HTTP/1.0\" 404 19 \"-\" \"curl/7.67.0\"\n",
      "2021-07-20 12:31:23,127 | root | INFO | Swagger file not present\n",
      "2021-07-20 12:31:23,127 | root | INFO | 404\n",
      "127.0.0.1 - - [20/Jul/2021:12:31:23 +0000] \"GET /swagger.json HTTP/1.0\" 404 19 \"-\" \"hackney/1.17.4\"\n",
      "2021-07-20 12:31:23,371 | root | INFO | Swagger file not present\n",
      "2021-07-20 12:31:23,371 | root | INFO | 404\n",
      "127.0.0.1 - - [20/Jul/2021:12:31:23 +0000] \"GET /swagger.json HTTP/1.0\" 404 19 \"-\" \"curl/7.67.0\"\n",
      "\n"
     ]
    }
   ],
   "source": [
    "print(service.get_logs())"
   ]
  },
  {
   "cell_type": "markdown",
   "id": "51b64431",
   "metadata": {},
   "source": [
    "## Test web service"
   ]
  },
  {
   "cell_type": "code",
   "execution_count": 21,
   "id": "9ca6f9b2",
   "metadata": {},
   "outputs": [
    {
     "name": "stdout",
     "output_type": "stream",
     "text": [
      "{'result': [1]}\n"
     ]
    }
   ],
   "source": [
    "import json\n",
    "\n",
    "input_payload = json.dumps({\n",
    "    'data':[34.927778, 0.24, 7.3899, 83, 16.1000, 1]\n",
    "})\n",
    "output = service.run(input_payload)\n",
    "\n",
    "print(output)"
   ]
  },
  {
   "cell_type": "code",
   "execution_count": null,
   "id": "38649ffc",
   "metadata": {},
   "outputs": [],
   "source": []
  }
 ],
 "metadata": {
  "kernelspec": {
   "display_name": "Python 3.6 - AzureML",
   "language": "python",
   "name": "python3-azureml"
  },
  "language_info": {
   "codemirror_mode": {
    "name": "ipython",
    "version": 3
   },
   "file_extension": ".py",
   "mimetype": "text/x-python",
   "name": "python",
   "nbconvert_exporter": "python",
   "pygments_lexer": "ipython3",
   "version": "3.6.9"
  }
 },
 "nbformat": 4,
 "nbformat_minor": 5
}
