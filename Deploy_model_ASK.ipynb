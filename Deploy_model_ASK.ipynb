{
 "cells": [
  {
   "cell_type": "code",
   "execution_count": 1,
   "id": "d95b9f8b",
   "metadata": {},
   "outputs": [],
   "source": [
    "import numpy as np\n",
    "import pandas as pd\n",
    "import warnings\n",
    "warnings.filterwarnings('ignore')\n",
    "\n",
    "from azureml.core import Model\n",
    "from azureml.core import Experiment\n",
    "from azureml.core import Workspace"
   ]
  },
  {
   "cell_type": "code",
   "execution_count": 2,
   "id": "28c5d801",
   "metadata": {},
   "outputs": [
    {
     "name": "stdout",
     "output_type": "stream",
     "text": [
      "AZURE ML SDK VERSION: 1.30.0\n"
     ]
    }
   ],
   "source": [
    "import azureml.core\n",
    "print(f'AZURE ML SDK VERSION: {azureml.core.VERSION}')"
   ]
  },
  {
   "cell_type": "code",
   "execution_count": 3,
   "id": "b8548c54",
   "metadata": {},
   "outputs": [
    {
     "name": "stdout",
     "output_type": "stream",
     "text": [
      "Workspace.create(name='mlops_ws', subscription_id='6f507867-3280-4f79-8820-9939bef45222', resource_group='learn_mlops')\n"
     ]
    }
   ],
   "source": [
    "ws = Workspace.from_config()\n",
    "print(ws)"
   ]
  },
  {
   "cell_type": "markdown",
   "id": "0bdea889",
   "metadata": {},
   "source": [
    "### Define Environnement"
   ]
  },
  {
   "cell_type": "code",
   "execution_count": 4,
   "id": "a7258bda",
   "metadata": {},
   "outputs": [],
   "source": [
    "from azureml.core.environment import Environment\n",
    "from azureml.core.model import InferenceConfig"
   ]
  },
  {
   "cell_type": "code",
   "execution_count": 5,
   "id": "bdb18393",
   "metadata": {},
   "outputs": [],
   "source": [
    "env = Environment(name='my_env')"
   ]
  },
  {
   "cell_type": "code",
   "execution_count": 6,
   "id": "98f4ddac",
   "metadata": {},
   "outputs": [],
   "source": [
    "for pip_package in [\"numpy\", \"onnxruntime\", \"joblib\", \"azureml-core\", \"azureml-monitoring\", \"azureml-defaults\", \n",
    "                    \"scikit-learn==0.22.2\", \"inference-schema\", \"inference-schema[numpy-support]\"]:\n",
    "    env.python.conda_dependencies.add_pip_package(pip_package)\n",
    "    \n",
    "inference_config = InferenceConfig(entry_script='score.py', environment=env)"
   ]
  },
  {
   "cell_type": "code",
   "execution_count": 7,
   "id": "788d8508",
   "metadata": {},
   "outputs": [
    {
     "data": {
      "text/plain": [
       "{\n",
       "    \"databricks\": {\n",
       "        \"eggLibraries\": [],\n",
       "        \"jarLibraries\": [],\n",
       "        \"mavenLibraries\": [],\n",
       "        \"pypiLibraries\": [],\n",
       "        \"rcranLibraries\": []\n",
       "    },\n",
       "    \"docker\": {\n",
       "        \"arguments\": [],\n",
       "        \"baseDockerfile\": null,\n",
       "        \"baseImage\": \"mcr.microsoft.com/azureml/openmpi3.1.2-ubuntu18.04:20210513.v1\",\n",
       "        \"baseImageRegistry\": {\n",
       "            \"address\": null,\n",
       "            \"password\": null,\n",
       "            \"registryIdentity\": null,\n",
       "            \"username\": null\n",
       "        },\n",
       "        \"enabled\": false,\n",
       "        \"platform\": {\n",
       "            \"architecture\": \"amd64\",\n",
       "            \"os\": \"Linux\"\n",
       "        },\n",
       "        \"sharedVolumes\": true,\n",
       "        \"shmSize\": \"2g\"\n",
       "    },\n",
       "    \"environmentVariables\": {\n",
       "        \"EXAMPLE_ENV_VAR\": \"EXAMPLE_VALUE\"\n",
       "    },\n",
       "    \"inferencingStackVersion\": null,\n",
       "    \"name\": \"my_env\",\n",
       "    \"python\": {\n",
       "        \"baseCondaEnvironment\": null,\n",
       "        \"condaDependencies\": {\n",
       "            \"channels\": [\n",
       "                \"anaconda\",\n",
       "                \"conda-forge\"\n",
       "            ],\n",
       "            \"dependencies\": [\n",
       "                \"python=3.6.2\",\n",
       "                {\n",
       "                    \"pip\": [\n",
       "                        \"numpy\",\n",
       "                        \"onnxruntime\",\n",
       "                        \"joblib\",\n",
       "                        \"azureml-core\",\n",
       "                        \"azureml-monitoring\",\n",
       "                        \"azureml-defaults\",\n",
       "                        \"scikit-learn==0.22.2\",\n",
       "                        \"inference-schema[numpy-support]\"\n",
       "                    ]\n",
       "                }\n",
       "            ],\n",
       "            \"name\": \"project_environment\"\n",
       "        },\n",
       "        \"condaDependenciesFile\": null,\n",
       "        \"interpreterPath\": \"python\",\n",
       "        \"userManagedDependencies\": false\n",
       "    },\n",
       "    \"r\": null,\n",
       "    \"spark\": {\n",
       "        \"packages\": [],\n",
       "        \"precachePackages\": true,\n",
       "        \"repositories\": []\n",
       "    },\n",
       "    \"version\": null\n",
       "}"
      ]
     },
     "execution_count": 7,
     "metadata": {},
     "output_type": "execute_result"
    }
   ],
   "source": [
    "env"
   ]
  },
  {
   "cell_type": "markdown",
   "id": "290b7972",
   "metadata": {},
   "source": [
    "### Deployment configuration"
   ]
  },
  {
   "cell_type": "code",
   "execution_count": 8,
   "id": "dd451ca3",
   "metadata": {},
   "outputs": [
    {
     "data": {
      "text/plain": [
       "<azureml.core.webservice.aks.AksServiceDeploymentConfiguration at 0x7fa63b2f15c0>"
      ]
     },
     "execution_count": 8,
     "metadata": {},
     "output_type": "execute_result"
    }
   ],
   "source": [
    "from azureml.core.webservice import AksWebservice\n",
    "\n",
    "deploy_config = AksWebservice.deploy_configuration(collect_model_data=True)\n",
    "deploy_config"
   ]
  },
  {
   "cell_type": "markdown",
   "id": "107f681a",
   "metadata": {},
   "source": [
    "### Deploy webservice"
   ]
  },
  {
   "cell_type": "code",
   "execution_count": 9,
   "id": "071bb0d4",
   "metadata": {},
   "outputs": [],
   "source": [
    "from azureml.core.compute import AksCompute, ComputeTarget\n",
    "from azureml.core.compute_target import ComputeTargetException"
   ]
  },
  {
   "cell_type": "code",
   "execution_count": 12,
   "id": "6b914ee2",
   "metadata": {},
   "outputs": [
    {
     "name": "stdout",
     "output_type": "stream",
     "text": [
      "Creating..\n",
      "FailedProvisioning operation finished, operation \"Failed\"\n"
     ]
    },
    {
     "ename": "ComputeTargetException",
     "evalue": "ComputeTargetException:\n\tMessage: Compute object provisioning polling reached non-successful terminal state, current provisioning state: Failed\nProvisioning operation error:\n{'code': 'InvalidTemplateDeployment', 'message': \"The template deployment '18adf9a1-3717-47f1-9239-593e6253df61' is not valid according to the validation procedure. The tracking id is '584c4672-323a-419c-b55f-a208d0950829'. See inner errors for details.\", 'details': [{'code': 'QuotaExceeded', 'message': 'Provisioning of resource(s) for container service myask-cluster1fe57155b in resource group Learn_MLOps failed. Message: {\\n  \"code\": \"QuotaExceeded\",\\n  \"message\": \"Provisioning of resource(s) for container service myask-cluster1fe57155b in resource group Learn_MLOps failed. Message: Operation could not be completed as it results in exceeding approved Total Regional Cores quota. Additional details - Deployment Model: Resource Manager, Location: northeurope, Current Limit: 4, Current Usage: 0, Additional Required: 12, (Minimum) New Limit Required: 12. Submit a request for Quota increase at https://aka.ms/ProdportalCRP/?#create/Microsoft.Support/Parameters/%7B%22subId%22:%226f507867-3280-4f79-8820-9939bef45222%22,%22pesId%22:%2206bfd9d3-516b-d5c6-5802-169c800dec89%22,%22supportTopicId%22:%22e12e3d1d-7fa0-af33-c6d0-3c50df9658a3%22%7D by specifying parameters listed in the ‘Details’ section for deployment to succeed. Please read more about quota limits at https://docs.microsoft.com/en-us/azure/azure-supportability/regional-quota-requests.. Details: \"\\n }. Details: '}]}\n\tInnerException None\n\tErrorResponse \n{\n    \"error\": {\n        \"message\": \"Compute object provisioning polling reached non-successful terminal state, current provisioning state: Failed\\nProvisioning operation error:\\n{'code': 'InvalidTemplateDeployment', 'message': \\\"The template deployment '18adf9a1-3717-47f1-9239-593e6253df61' is not valid according to the validation procedure. The tracking id is '584c4672-323a-419c-b55f-a208d0950829'. See inner errors for details.\\\", 'details': [{'code': 'QuotaExceeded', 'message': 'Provisioning of resource(s) for container service myask-cluster1fe57155b in resource group Learn_MLOps failed. Message: {\\\\n  \\\"code\\\": \\\"QuotaExceeded\\\",\\\\n  \\\"message\\\": \\\"Provisioning of resource(s) for container service myask-cluster1fe57155b in resource group Learn_MLOps failed. Message: Operation could not be completed as it results in exceeding approved Total Regional Cores quota. Additional details - Deployment Model: Resource Manager, Location: northeurope, Current Limit: 4, Current Usage: 0, Additional Required: 12, (Minimum) New Limit Required: 12. Submit a request for Quota increase at https://aka.ms/ProdportalCRP/?#create/Microsoft.Support/Parameters/%7B%22subId%22:%226f507867-3280-4f79-8820-9939bef45222%22,%22pesId%22:%2206bfd9d3-516b-d5c6-5802-169c800dec89%22,%22supportTopicId%22:%22e12e3d1d-7fa0-af33-c6d0-3c50df9658a3%22%7D by specifying parameters listed in the \\u2018Details\\u2019 section for deployment to succeed. Please read more about quota limits at https://docs.microsoft.com/en-us/azure/azure-supportability/regional-quota-requests.. Details: \\\"\\\\n }. Details: '}]}\"\n    }\n}",
     "output_type": "error",
     "traceback": [
      "\u001b[0;31m---------------------------------------------------------------------------\u001b[0m",
      "\u001b[0;31mComputeTargetException\u001b[0m                    Traceback (most recent call last)",
      "\u001b[0;32m<ipython-input-12-c23d81ca37fd>\u001b[0m in \u001b[0;36m<module>\u001b[0;34m\u001b[0m\n\u001b[1;32m      6\u001b[0m \u001b[0mprov_config\u001b[0m \u001b[0;34m=\u001b[0m \u001b[0mAksCompute\u001b[0m\u001b[0;34m.\u001b[0m\u001b[0mprovisioning_configuration\u001b[0m\u001b[0;34m(\u001b[0m\u001b[0;34m)\u001b[0m\u001b[0;34m\u001b[0m\u001b[0;34m\u001b[0m\u001b[0m\n\u001b[1;32m      7\u001b[0m \u001b[0mask_target\u001b[0m \u001b[0;34m=\u001b[0m \u001b[0mComputeTarget\u001b[0m\u001b[0;34m.\u001b[0m\u001b[0mcreate\u001b[0m\u001b[0;34m(\u001b[0m\u001b[0mworkspace\u001b[0m \u001b[0;34m=\u001b[0m \u001b[0mws\u001b[0m\u001b[0;34m,\u001b[0m \u001b[0mname\u001b[0m \u001b[0;34m=\u001b[0m \u001b[0mask_name\u001b[0m\u001b[0;34m,\u001b[0m \u001b[0mprovisioning_configuration\u001b[0m \u001b[0;34m=\u001b[0m \u001b[0mprov_config\u001b[0m\u001b[0;34m)\u001b[0m\u001b[0;34m\u001b[0m\u001b[0;34m\u001b[0m\u001b[0m\n\u001b[0;32m----> 8\u001b[0;31m \u001b[0mask_target\u001b[0m\u001b[0;34m.\u001b[0m\u001b[0mwait_for_completion\u001b[0m\u001b[0;34m(\u001b[0m\u001b[0mshow_output\u001b[0m \u001b[0;34m=\u001b[0m \u001b[0;32mTrue\u001b[0m\u001b[0;34m)\u001b[0m\u001b[0;34m\u001b[0m\u001b[0;34m\u001b[0m\u001b[0m\n\u001b[0m",
      "\u001b[0;32m/anaconda/envs/azureml_py36/lib/python3.6/site-packages/azureml/core/compute/compute.py\u001b[0m in \u001b[0;36mwait_for_completion\u001b[0;34m(self, show_output, is_delete_operation)\u001b[0m\n\u001b[1;32m    579\u001b[0m                                              'Current state is {}'.format(self.provisioning_state))\n\u001b[1;32m    580\u001b[0m             \u001b[0;32melse\u001b[0m\u001b[0;34m:\u001b[0m\u001b[0;34m\u001b[0m\u001b[0;34m\u001b[0m\u001b[0m\n\u001b[0;32m--> 581\u001b[0;31m                 \u001b[0;32mraise\u001b[0m \u001b[0me\u001b[0m\u001b[0;34m\u001b[0m\u001b[0;34m\u001b[0m\u001b[0m\n\u001b[0m\u001b[1;32m    582\u001b[0m \u001b[0;34m\u001b[0m\u001b[0m\n\u001b[1;32m    583\u001b[0m     \u001b[0;32mdef\u001b[0m \u001b[0m_wait_for_completion\u001b[0m\u001b[0;34m(\u001b[0m\u001b[0mself\u001b[0m\u001b[0;34m,\u001b[0m \u001b[0mshow_output\u001b[0m\u001b[0;34m)\u001b[0m\u001b[0;34m:\u001b[0m\u001b[0;34m\u001b[0m\u001b[0;34m\u001b[0m\u001b[0m\n",
      "\u001b[0;32m/anaconda/envs/azureml_py36/lib/python3.6/site-packages/azureml/core/compute/compute.py\u001b[0m in \u001b[0;36mwait_for_completion\u001b[0;34m(self, show_output, is_delete_operation)\u001b[0m\n\u001b[1;32m    572\u001b[0m                                              \u001b[0;34m'state, current provisioning state: {}\\n'\u001b[0m\u001b[0;34m\u001b[0m\u001b[0;34m\u001b[0m\u001b[0m\n\u001b[1;32m    573\u001b[0m                                              \u001b[0;34m'Provisioning operation error:\\n'\u001b[0m\u001b[0;34m\u001b[0m\u001b[0;34m\u001b[0m\u001b[0m\n\u001b[0;32m--> 574\u001b[0;31m                                              '{}'.format(self.provisioning_state, error_response))\n\u001b[0m\u001b[1;32m    575\u001b[0m         \u001b[0;32mexcept\u001b[0m \u001b[0mComputeTargetException\u001b[0m \u001b[0;32mas\u001b[0m \u001b[0me\u001b[0m\u001b[0;34m:\u001b[0m\u001b[0;34m\u001b[0m\u001b[0;34m\u001b[0m\u001b[0m\n\u001b[1;32m    576\u001b[0m             \u001b[0;32mif\u001b[0m \u001b[0me\u001b[0m\u001b[0;34m.\u001b[0m\u001b[0mmessage\u001b[0m \u001b[0;34m==\u001b[0m \u001b[0;34m'No operation endpoint'\u001b[0m\u001b[0;34m:\u001b[0m\u001b[0;34m\u001b[0m\u001b[0;34m\u001b[0m\u001b[0m\n",
      "\u001b[0;31mComputeTargetException\u001b[0m: ComputeTargetException:\n\tMessage: Compute object provisioning polling reached non-successful terminal state, current provisioning state: Failed\nProvisioning operation error:\n{'code': 'InvalidTemplateDeployment', 'message': \"The template deployment '18adf9a1-3717-47f1-9239-593e6253df61' is not valid according to the validation procedure. The tracking id is '584c4672-323a-419c-b55f-a208d0950829'. See inner errors for details.\", 'details': [{'code': 'QuotaExceeded', 'message': 'Provisioning of resource(s) for container service myask-cluster1fe57155b in resource group Learn_MLOps failed. Message: {\\n  \"code\": \"QuotaExceeded\",\\n  \"message\": \"Provisioning of resource(s) for container service myask-cluster1fe57155b in resource group Learn_MLOps failed. Message: Operation could not be completed as it results in exceeding approved Total Regional Cores quota. Additional details - Deployment Model: Resource Manager, Location: northeurope, Current Limit: 4, Current Usage: 0, Additional Required: 12, (Minimum) New Limit Required: 12. Submit a request for Quota increase at https://aka.ms/ProdportalCRP/?#create/Microsoft.Support/Parameters/%7B%22subId%22:%226f507867-3280-4f79-8820-9939bef45222%22,%22pesId%22:%2206bfd9d3-516b-d5c6-5802-169c800dec89%22,%22supportTopicId%22:%22e12e3d1d-7fa0-af33-c6d0-3c50df9658a3%22%7D by specifying parameters listed in the ‘Details’ section for deployment to succeed. Please read more about quota limits at https://docs.microsoft.com/en-us/azure/azure-supportability/regional-quota-requests.. Details: \"\\n }. Details: '}]}\n\tInnerException None\n\tErrorResponse \n{\n    \"error\": {\n        \"message\": \"Compute object provisioning polling reached non-successful terminal state, current provisioning state: Failed\\nProvisioning operation error:\\n{'code': 'InvalidTemplateDeployment', 'message': \\\"The template deployment '18adf9a1-3717-47f1-9239-593e6253df61' is not valid according to the validation procedure. The tracking id is '584c4672-323a-419c-b55f-a208d0950829'. See inner errors for details.\\\", 'details': [{'code': 'QuotaExceeded', 'message': 'Provisioning of resource(s) for container service myask-cluster1fe57155b in resource group Learn_MLOps failed. Message: {\\\\n  \\\"code\\\": \\\"QuotaExceeded\\\",\\\\n  \\\"message\\\": \\\"Provisioning of resource(s) for container service myask-cluster1fe57155b in resource group Learn_MLOps failed. Message: Operation could not be completed as it results in exceeding approved Total Regional Cores quota. Additional details - Deployment Model: Resource Manager, Location: northeurope, Current Limit: 4, Current Usage: 0, Additional Required: 12, (Minimum) New Limit Required: 12. Submit a request for Quota increase at https://aka.ms/ProdportalCRP/?#create/Microsoft.Support/Parameters/%7B%22subId%22:%226f507867-3280-4f79-8820-9939bef45222%22,%22pesId%22:%2206bfd9d3-516b-d5c6-5802-169c800dec89%22,%22supportTopicId%22:%22e12e3d1d-7fa0-af33-c6d0-3c50df9658a3%22%7D by specifying parameters listed in the \\u2018Details\\u2019 section for deployment to succeed. Please read more about quota limits at https://docs.microsoft.com/en-us/azure/azure-supportability/regional-quota-requests.. Details: \\\"\\\\n }. Details: '}]}\"\n    }\n}"
     ]
    }
   ],
   "source": [
    "# name for cluster Kubernetes\n",
    "ask_name = 'myask-cluster'\n",
    "#ask_target = ComputeTarget(workspace=ws, name=ask_name)\n",
    "#print('Found existing cluster Kubernetes....')\n",
    "# provisioning configuration with default parameters\n",
    "prov_config = AksCompute.provisioning_configuration()\n",
    "ask_target = ComputeTarget.create(workspace = ws, name = ask_name, provisioning_configuration = prov_config)\n",
    "ask_target.wait_for_completion(show_output = True)"
   ]
  },
  {
   "cell_type": "code",
   "execution_count": null,
   "id": "d11d5a15",
   "metadata": {},
   "outputs": [],
   "source": [
    "model1 = Model(workspace=ws, name='Scaler')\n",
    "model2 = Model(workspace=ws, name=\"Support-vector-Classifier\")"
   ]
  }
 ],
 "metadata": {
  "kernelspec": {
   "display_name": "Python 3.6 - AzureML",
   "language": "python",
   "name": "python3-azureml"
  },
  "language_info": {
   "codemirror_mode": {
    "name": "ipython",
    "version": 3
   },
   "file_extension": ".py",
   "mimetype": "text/x-python",
   "name": "python",
   "nbconvert_exporter": "python",
   "pygments_lexer": "ipython3",
   "version": "3.6.9"
  }
 },
 "nbformat": 4,
 "nbformat_minor": 5
}
