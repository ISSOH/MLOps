{
 "cells": [
  {
   "cell_type": "code",
   "execution_count": 1,
   "metadata": {},
   "outputs": [],
   "source": [
    "%matplotlib inline\n",
    "import numpy as np\n",
    "import pandas as pd\n",
    "import matplotlib.pyplot as plt\n",
    "import seaborn as sns\n",
    "from azureml.core import Workspace, Dataset\n",
    "\n",
    "import matplotlib as mpl\n",
    "mpl.rc('axes', labelsize=12)\n",
    "mpl.rc('xtick', labelsize=12)\n",
    "mpl.rc('ytick', labelsize=12)\n",
    "\n",
    "import warnings\n",
    "warnings.filterwarnings('ignore')"
   ]
  },
  {
   "cell_type": "code",
   "execution_count": 2,
   "metadata": {},
   "outputs": [],
   "source": [
    "data = pd.read_csv('Data/weather_dataset.csv')"
   ]
  },
  {
   "cell_type": "code",
   "execution_count": 3,
   "metadata": {},
   "outputs": [
    {
     "data": {
      "text/html": [
       "<div>\n",
       "<style scoped>\n",
       "    .dataframe tbody tr th:only-of-type {\n",
       "        vertical-align: middle;\n",
       "    }\n",
       "\n",
       "    .dataframe tbody tr th {\n",
       "        vertical-align: top;\n",
       "    }\n",
       "\n",
       "    .dataframe thead th {\n",
       "        text-align: right;\n",
       "    }\n",
       "</style>\n",
       "<table border=\"1\" class=\"dataframe\">\n",
       "  <thead>\n",
       "    <tr style=\"text-align: right;\">\n",
       "      <th></th>\n",
       "      <th>S_No</th>\n",
       "      <th>Timestamp</th>\n",
       "      <th>Location</th>\n",
       "      <th>Temperature_C</th>\n",
       "      <th>Apparent_Temperature_C</th>\n",
       "      <th>Humidity</th>\n",
       "      <th>Wind_speed_kmph</th>\n",
       "      <th>Wind_bearing_degrees</th>\n",
       "      <th>Visibility_km</th>\n",
       "      <th>Pressure_millibars</th>\n",
       "      <th>Weather_conditions</th>\n",
       "    </tr>\n",
       "  </thead>\n",
       "  <tbody>\n",
       "    <tr>\n",
       "      <th>0</th>\n",
       "      <td>0</td>\n",
       "      <td>2006-04-01 00:00:00+02:00</td>\n",
       "      <td>Port of Turku, Finland</td>\n",
       "      <td>9.472222</td>\n",
       "      <td>7.388889</td>\n",
       "      <td>0.89</td>\n",
       "      <td>14.1197</td>\n",
       "      <td>251</td>\n",
       "      <td>15.8263</td>\n",
       "      <td>1015.13</td>\n",
       "      <td>rain</td>\n",
       "    </tr>\n",
       "    <tr>\n",
       "      <th>1</th>\n",
       "      <td>1</td>\n",
       "      <td>2006-04-01 01:00:00+02:00</td>\n",
       "      <td>Port of Turku, Finland</td>\n",
       "      <td>9.355556</td>\n",
       "      <td>7.227778</td>\n",
       "      <td>0.86</td>\n",
       "      <td>14.2646</td>\n",
       "      <td>259</td>\n",
       "      <td>15.8263</td>\n",
       "      <td>1015.63</td>\n",
       "      <td>rain</td>\n",
       "    </tr>\n",
       "    <tr>\n",
       "      <th>2</th>\n",
       "      <td>2</td>\n",
       "      <td>2006-04-01 02:00:00+02:00</td>\n",
       "      <td>Port of Turku, Finland</td>\n",
       "      <td>9.377778</td>\n",
       "      <td>9.377778</td>\n",
       "      <td>0.89</td>\n",
       "      <td>3.9284</td>\n",
       "      <td>204</td>\n",
       "      <td>14.9569</td>\n",
       "      <td>1015.94</td>\n",
       "      <td>rain</td>\n",
       "    </tr>\n",
       "    <tr>\n",
       "      <th>3</th>\n",
       "      <td>3</td>\n",
       "      <td>2006-04-01 03:00:00+02:00</td>\n",
       "      <td>Port of Turku, Finland</td>\n",
       "      <td>8.288889</td>\n",
       "      <td>5.944444</td>\n",
       "      <td>0.83</td>\n",
       "      <td>14.1036</td>\n",
       "      <td>269</td>\n",
       "      <td>15.8263</td>\n",
       "      <td>1016.41</td>\n",
       "      <td>NaN</td>\n",
       "    </tr>\n",
       "    <tr>\n",
       "      <th>4</th>\n",
       "      <td>4</td>\n",
       "      <td>2006-04-01 04:00:00+02:00</td>\n",
       "      <td>Port of Turku, Finland</td>\n",
       "      <td>8.755556</td>\n",
       "      <td>6.977778</td>\n",
       "      <td>0.83</td>\n",
       "      <td>11.0446</td>\n",
       "      <td>259</td>\n",
       "      <td>15.8263</td>\n",
       "      <td>1016.51</td>\n",
       "      <td>rain</td>\n",
       "    </tr>\n",
       "  </tbody>\n",
       "</table>\n",
       "</div>"
      ],
      "text/plain": [
       "   S_No                  Timestamp                Location  Temperature_C  \\\n",
       "0     0  2006-04-01 00:00:00+02:00  Port of Turku, Finland       9.472222   \n",
       "1     1  2006-04-01 01:00:00+02:00  Port of Turku, Finland       9.355556   \n",
       "2     2  2006-04-01 02:00:00+02:00  Port of Turku, Finland       9.377778   \n",
       "3     3  2006-04-01 03:00:00+02:00  Port of Turku, Finland       8.288889   \n",
       "4     4  2006-04-01 04:00:00+02:00  Port of Turku, Finland       8.755556   \n",
       "\n",
       "   Apparent_Temperature_C  Humidity  Wind_speed_kmph  Wind_bearing_degrees  \\\n",
       "0                7.388889      0.89          14.1197                   251   \n",
       "1                7.227778      0.86          14.2646                   259   \n",
       "2                9.377778      0.89           3.9284                   204   \n",
       "3                5.944444      0.83          14.1036                   269   \n",
       "4                6.977778      0.83          11.0446                   259   \n",
       "\n",
       "   Visibility_km  Pressure_millibars Weather_conditions  \n",
       "0        15.8263             1015.13               rain  \n",
       "1        15.8263             1015.63               rain  \n",
       "2        14.9569             1015.94               rain  \n",
       "3        15.8263             1016.41                NaN  \n",
       "4        15.8263             1016.51               rain  "
      ]
     },
     "execution_count": 3,
     "metadata": {},
     "output_type": "execute_result"
    }
   ],
   "source": [
    "data.head()"
   ]
  },
  {
   "cell_type": "code",
   "execution_count": 4,
   "metadata": {},
   "outputs": [
    {
     "name": "stdout",
     "output_type": "stream",
     "text": [
      "Le format des données est: (96453, 11)\n"
     ]
    }
   ],
   "source": [
    "print(f'Le format des données est: {data.shape}')"
   ]
  },
  {
   "cell_type": "code",
   "execution_count": 5,
   "metadata": {},
   "outputs": [
    {
     "name": "stdout",
     "output_type": "stream",
     "text": [
      "<class 'pandas.core.frame.DataFrame'>\n",
      "RangeIndex: 96453 entries, 0 to 96452\n",
      "Data columns (total 11 columns):\n",
      " #   Column                  Non-Null Count  Dtype  \n",
      "---  ------                  --------------  -----  \n",
      " 0   S_No                    96453 non-null  int64  \n",
      " 1   Timestamp               96453 non-null  object \n",
      " 2   Location                96453 non-null  object \n",
      " 3   Temperature_C           96453 non-null  float64\n",
      " 4   Apparent_Temperature_C  96453 non-null  float64\n",
      " 5   Humidity                96453 non-null  float64\n",
      " 6   Wind_speed_kmph         96453 non-null  float64\n",
      " 7   Wind_bearing_degrees    96453 non-null  int64  \n",
      " 8   Visibility_km           96453 non-null  float64\n",
      " 9   Pressure_millibars      96453 non-null  float64\n",
      " 10  Weather_conditions      96448 non-null  object \n",
      "dtypes: float64(6), int64(2), object(3)\n",
      "memory usage: 8.1+ MB\n"
     ]
    }
   ],
   "source": [
    "data.info()"
   ]
  },
  {
   "cell_type": "code",
   "execution_count": 6,
   "metadata": {},
   "outputs": [
    {
     "data": {
      "text/html": [
       "<div>\n",
       "<style scoped>\n",
       "    .dataframe tbody tr th:only-of-type {\n",
       "        vertical-align: middle;\n",
       "    }\n",
       "\n",
       "    .dataframe tbody tr th {\n",
       "        vertical-align: top;\n",
       "    }\n",
       "\n",
       "    .dataframe thead th {\n",
       "        text-align: right;\n",
       "    }\n",
       "</style>\n",
       "<table border=\"1\" class=\"dataframe\">\n",
       "  <thead>\n",
       "    <tr style=\"text-align: right;\">\n",
       "      <th></th>\n",
       "      <th>count</th>\n",
       "      <th>mean</th>\n",
       "      <th>std</th>\n",
       "      <th>min</th>\n",
       "      <th>25%</th>\n",
       "      <th>50%</th>\n",
       "      <th>75%</th>\n",
       "      <th>max</th>\n",
       "    </tr>\n",
       "  </thead>\n",
       "  <tbody>\n",
       "    <tr>\n",
       "      <th>S_No</th>\n",
       "      <td>96453.0</td>\n",
       "      <td>48226.000000</td>\n",
       "      <td>27843.727094</td>\n",
       "      <td>0.000000</td>\n",
       "      <td>24113.000000</td>\n",
       "      <td>48226.0000</td>\n",
       "      <td>72339.000000</td>\n",
       "      <td>96452.000000</td>\n",
       "    </tr>\n",
       "    <tr>\n",
       "      <th>Temperature_C</th>\n",
       "      <td>96453.0</td>\n",
       "      <td>11.932678</td>\n",
       "      <td>9.551546</td>\n",
       "      <td>-21.822222</td>\n",
       "      <td>4.688889</td>\n",
       "      <td>12.0000</td>\n",
       "      <td>18.838889</td>\n",
       "      <td>39.905556</td>\n",
       "    </tr>\n",
       "    <tr>\n",
       "      <th>Apparent_Temperature_C</th>\n",
       "      <td>96453.0</td>\n",
       "      <td>10.855029</td>\n",
       "      <td>10.696847</td>\n",
       "      <td>-27.716667</td>\n",
       "      <td>2.311111</td>\n",
       "      <td>12.0000</td>\n",
       "      <td>18.838889</td>\n",
       "      <td>39.344444</td>\n",
       "    </tr>\n",
       "    <tr>\n",
       "      <th>Humidity</th>\n",
       "      <td>96453.0</td>\n",
       "      <td>0.734899</td>\n",
       "      <td>0.195473</td>\n",
       "      <td>0.000000</td>\n",
       "      <td>0.600000</td>\n",
       "      <td>0.7800</td>\n",
       "      <td>0.890000</td>\n",
       "      <td>1.000000</td>\n",
       "    </tr>\n",
       "    <tr>\n",
       "      <th>Wind_speed_kmph</th>\n",
       "      <td>96453.0</td>\n",
       "      <td>10.810640</td>\n",
       "      <td>6.913571</td>\n",
       "      <td>0.000000</td>\n",
       "      <td>5.828200</td>\n",
       "      <td>9.9659</td>\n",
       "      <td>14.135800</td>\n",
       "      <td>63.852600</td>\n",
       "    </tr>\n",
       "    <tr>\n",
       "      <th>Wind_bearing_degrees</th>\n",
       "      <td>96453.0</td>\n",
       "      <td>187.509232</td>\n",
       "      <td>107.383428</td>\n",
       "      <td>0.000000</td>\n",
       "      <td>116.000000</td>\n",
       "      <td>180.0000</td>\n",
       "      <td>290.000000</td>\n",
       "      <td>359.000000</td>\n",
       "    </tr>\n",
       "    <tr>\n",
       "      <th>Visibility_km</th>\n",
       "      <td>96453.0</td>\n",
       "      <td>10.347325</td>\n",
       "      <td>4.192123</td>\n",
       "      <td>0.000000</td>\n",
       "      <td>8.339800</td>\n",
       "      <td>10.0464</td>\n",
       "      <td>14.812000</td>\n",
       "      <td>16.100000</td>\n",
       "    </tr>\n",
       "    <tr>\n",
       "      <th>Pressure_millibars</th>\n",
       "      <td>96453.0</td>\n",
       "      <td>1003.235956</td>\n",
       "      <td>116.969906</td>\n",
       "      <td>0.000000</td>\n",
       "      <td>1011.900000</td>\n",
       "      <td>1016.4500</td>\n",
       "      <td>1021.090000</td>\n",
       "      <td>1046.380000</td>\n",
       "    </tr>\n",
       "  </tbody>\n",
       "</table>\n",
       "</div>"
      ],
      "text/plain": [
       "                          count          mean           std        min  \\\n",
       "S_No                    96453.0  48226.000000  27843.727094   0.000000   \n",
       "Temperature_C           96453.0     11.932678      9.551546 -21.822222   \n",
       "Apparent_Temperature_C  96453.0     10.855029     10.696847 -27.716667   \n",
       "Humidity                96453.0      0.734899      0.195473   0.000000   \n",
       "Wind_speed_kmph         96453.0     10.810640      6.913571   0.000000   \n",
       "Wind_bearing_degrees    96453.0    187.509232    107.383428   0.000000   \n",
       "Visibility_km           96453.0     10.347325      4.192123   0.000000   \n",
       "Pressure_millibars      96453.0   1003.235956    116.969906   0.000000   \n",
       "\n",
       "                                 25%         50%           75%           max  \n",
       "S_No                    24113.000000  48226.0000  72339.000000  96452.000000  \n",
       "Temperature_C               4.688889     12.0000     18.838889     39.905556  \n",
       "Apparent_Temperature_C      2.311111     12.0000     18.838889     39.344444  \n",
       "Humidity                    0.600000      0.7800      0.890000      1.000000  \n",
       "Wind_speed_kmph             5.828200      9.9659     14.135800     63.852600  \n",
       "Wind_bearing_degrees      116.000000    180.0000    290.000000    359.000000  \n",
       "Visibility_km               8.339800     10.0464     14.812000     16.100000  \n",
       "Pressure_millibars       1011.900000   1016.4500   1021.090000   1046.380000  "
      ]
     },
     "execution_count": 6,
     "metadata": {},
     "output_type": "execute_result"
    }
   ],
   "source": [
    "data.describe().T"
   ]
  },
  {
   "cell_type": "markdown",
   "metadata": {},
   "source": [
    "## Exploration"
   ]
  },
  {
   "cell_type": "code",
   "execution_count": 7,
   "metadata": {},
   "outputs": [
    {
     "data": {
      "text/plain": [
       "S_No                      0\n",
       "Timestamp                 0\n",
       "Location                  0\n",
       "Temperature_C             0\n",
       "Apparent_Temperature_C    0\n",
       "Humidity                  0\n",
       "Wind_speed_kmph           0\n",
       "Wind_bearing_degrees      0\n",
       "Visibility_km             0\n",
       "Pressure_millibars        0\n",
       "Weather_conditions        5\n",
       "dtype: int64"
      ]
     },
     "execution_count": 7,
     "metadata": {},
     "output_type": "execute_result"
    }
   ],
   "source": [
    "# Check missing values\n",
    "data.isnull().sum()"
   ]
  },
  {
   "cell_type": "markdown",
   "metadata": {},
   "source": [
    "* there are five missing values of target variable"
   ]
  },
  {
   "cell_type": "code",
   "execution_count": 8,
   "metadata": {},
   "outputs": [],
   "source": [
    "# We are going to fill that with previous values each value\n",
    "data['Weather_conditions'].fillna(method='ffill', inplace=True, axis=0)"
   ]
  },
  {
   "cell_type": "code",
   "execution_count": 9,
   "metadata": {},
   "outputs": [
    {
     "data": {
      "text/plain": [
       "rain     82271\n",
       "snow     10712\n",
       "clear     3470\n",
       "Name: Weather_conditions, dtype: int64"
      ]
     },
     "execution_count": 9,
     "metadata": {},
     "output_type": "execute_result"
    }
   ],
   "source": [
    "data['Weather_conditions'].value_counts()"
   ]
  },
  {
   "cell_type": "code",
   "execution_count": 10,
   "metadata": {},
   "outputs": [
    {
     "data": {
      "text/plain": [
       "rain       82271\n",
       "no_rain    14182\n",
       "Name: Weather_conditions, dtype: int64"
      ]
     },
     "execution_count": 10,
     "metadata": {},
     "output_type": "execute_result"
    }
   ],
   "source": [
    "data['Weather_conditions'].replace({\"snow\": \"no_rain\",  \"clear\": \"no_rain\"}, inplace=True)\n",
    "data['Weather_conditions'].value_counts()"
   ]
  },
  {
   "cell_type": "code",
   "execution_count": 11,
   "metadata": {},
   "outputs": [
    {
     "data": {
      "text/plain": [
       "<AxesSubplot:xlabel='Weather_conditions', ylabel='count'>"
      ]
     },
     "execution_count": 11,
     "metadata": {},
     "output_type": "execute_result"
    },
    {
     "data": {
      "image/png": "[encoded data removed]",
      "text/plain": [
       "<Figure size 432x288 with 1 Axes>"
      ]
     },
     "metadata": {
      "needs_background": "light"
     },
     "output_type": "display_data"
    }
   ],
   "source": [
    "sns.countplot(x='Weather_conditions', data=data)"
   ]
  },
  {
   "cell_type": "markdown",
   "metadata": {},
   "source": [
    "## Feature Engineering"
   ]
  },
  {
   "cell_type": "code",
   "execution_count": 12,
   "metadata": {},
   "outputs": [],
   "source": [
    "#Convert target feature to categorical feature \n",
    "from sklearn.preprocessing import LabelEncoder\n",
    "le = LabelEncoder()\n",
    "y = data['Weather_conditions']\n",
    "y = le.fit_transform(y)\n",
    "data['Weather_condition'] = y"
   ]
  },
  {
   "cell_type": "code",
   "execution_count": 13,
   "metadata": {},
   "outputs": [
    {
     "data": {
      "text/html": [
       "<div>\n",
       "<style scoped>\n",
       "    .dataframe tbody tr th:only-of-type {\n",
       "        vertical-align: middle;\n",
       "    }\n",
       "\n",
       "    .dataframe tbody tr th {\n",
       "        vertical-align: top;\n",
       "    }\n",
       "\n",
       "    .dataframe thead th {\n",
       "        text-align: right;\n",
       "    }\n",
       "</style>\n",
       "<table border=\"1\" class=\"dataframe\">\n",
       "  <thead>\n",
       "    <tr style=\"text-align: right;\">\n",
       "      <th></th>\n",
       "      <th>S_No</th>\n",
       "      <th>Timestamp</th>\n",
       "      <th>Location</th>\n",
       "      <th>Temperature_C</th>\n",
       "      <th>Apparent_Temperature_C</th>\n",
       "      <th>Humidity</th>\n",
       "      <th>Wind_speed_kmph</th>\n",
       "      <th>Wind_bearing_degrees</th>\n",
       "      <th>Visibility_km</th>\n",
       "      <th>Pressure_millibars</th>\n",
       "      <th>Weather_conditions</th>\n",
       "      <th>Weather_condition</th>\n",
       "    </tr>\n",
       "  </thead>\n",
       "  <tbody>\n",
       "    <tr>\n",
       "      <th>0</th>\n",
       "      <td>0</td>\n",
       "      <td>2006-04-01 00:00:00+02:00</td>\n",
       "      <td>Port of Turku, Finland</td>\n",
       "      <td>9.472222</td>\n",
       "      <td>7.388889</td>\n",
       "      <td>0.89</td>\n",
       "      <td>14.1197</td>\n",
       "      <td>251</td>\n",
       "      <td>15.8263</td>\n",
       "      <td>1015.13</td>\n",
       "      <td>rain</td>\n",
       "      <td>1</td>\n",
       "    </tr>\n",
       "    <tr>\n",
       "      <th>1</th>\n",
       "      <td>1</td>\n",
       "      <td>2006-04-01 01:00:00+02:00</td>\n",
       "      <td>Port of Turku, Finland</td>\n",
       "      <td>9.355556</td>\n",
       "      <td>7.227778</td>\n",
       "      <td>0.86</td>\n",
       "      <td>14.2646</td>\n",
       "      <td>259</td>\n",
       "      <td>15.8263</td>\n",
       "      <td>1015.63</td>\n",
       "      <td>rain</td>\n",
       "      <td>1</td>\n",
       "    </tr>\n",
       "    <tr>\n",
       "      <th>2</th>\n",
       "      <td>2</td>\n",
       "      <td>2006-04-01 02:00:00+02:00</td>\n",
       "      <td>Port of Turku, Finland</td>\n",
       "      <td>9.377778</td>\n",
       "      <td>9.377778</td>\n",
       "      <td>0.89</td>\n",
       "      <td>3.9284</td>\n",
       "      <td>204</td>\n",
       "      <td>14.9569</td>\n",
       "      <td>1015.94</td>\n",
       "      <td>rain</td>\n",
       "      <td>1</td>\n",
       "    </tr>\n",
       "    <tr>\n",
       "      <th>3</th>\n",
       "      <td>3</td>\n",
       "      <td>2006-04-01 03:00:00+02:00</td>\n",
       "      <td>Port of Turku, Finland</td>\n",
       "      <td>8.288889</td>\n",
       "      <td>5.944444</td>\n",
       "      <td>0.83</td>\n",
       "      <td>14.1036</td>\n",
       "      <td>269</td>\n",
       "      <td>15.8263</td>\n",
       "      <td>1016.41</td>\n",
       "      <td>rain</td>\n",
       "      <td>1</td>\n",
       "    </tr>\n",
       "    <tr>\n",
       "      <th>4</th>\n",
       "      <td>4</td>\n",
       "      <td>2006-04-01 04:00:00+02:00</td>\n",
       "      <td>Port of Turku, Finland</td>\n",
       "      <td>8.755556</td>\n",
       "      <td>6.977778</td>\n",
       "      <td>0.83</td>\n",
       "      <td>11.0446</td>\n",
       "      <td>259</td>\n",
       "      <td>15.8263</td>\n",
       "      <td>1016.51</td>\n",
       "      <td>rain</td>\n",
       "      <td>1</td>\n",
       "    </tr>\n",
       "  </tbody>\n",
       "</table>\n",
       "</div>"
      ],
      "text/plain": [
       "   S_No                  Timestamp                Location  Temperature_C  \\\n",
       "0     0  2006-04-01 00:00:00+02:00  Port of Turku, Finland       9.472222   \n",
       "1     1  2006-04-01 01:00:00+02:00  Port of Turku, Finland       9.355556   \n",
       "2     2  2006-04-01 02:00:00+02:00  Port of Turku, Finland       9.377778   \n",
       "3     3  2006-04-01 03:00:00+02:00  Port of Turku, Finland       8.288889   \n",
       "4     4  2006-04-01 04:00:00+02:00  Port of Turku, Finland       8.755556   \n",
       "\n",
       "   Apparent_Temperature_C  Humidity  Wind_speed_kmph  Wind_bearing_degrees  \\\n",
       "0                7.388889      0.89          14.1197                   251   \n",
       "1                7.227778      0.86          14.2646                   259   \n",
       "2                9.377778      0.89           3.9284                   204   \n",
       "3                5.944444      0.83          14.1036                   269   \n",
       "4                6.977778      0.83          11.0446                   259   \n",
       "\n",
       "   Visibility_km  Pressure_millibars Weather_conditions  Weather_condition  \n",
       "0        15.8263             1015.13               rain                  1  \n",
       "1        15.8263             1015.63               rain                  1  \n",
       "2        14.9569             1015.94               rain                  1  \n",
       "3        15.8263             1016.41               rain                  1  \n",
       "4        15.8263             1016.51               rain                  1  "
      ]
     },
     "execution_count": 13,
     "metadata": {},
     "output_type": "execute_result"
    }
   ],
   "source": [
    "data.head()"
   ]
  },
  {
   "cell_type": "code",
   "execution_count": 14,
   "metadata": {},
   "outputs": [],
   "source": [
    "data.drop(['S_No', 'Weather_conditions'], axis=1, inplace=True)"
   ]
  },
  {
   "cell_type": "code",
   "execution_count": 15,
   "metadata": {},
   "outputs": [],
   "source": [
    "# Transform column Timestamp of object type to datetime type\n",
    "data['Timestamp'] = pd.to_datetime(data['Timestamp'])"
   ]
  },
  {
   "cell_type": "code",
   "execution_count": 16,
   "metadata": {},
   "outputs": [
    {
     "data": {
      "text/plain": [
       "Timestamp                  object\n",
       "Location                   object\n",
       "Temperature_C             float64\n",
       "Apparent_Temperature_C    float64\n",
       "Humidity                  float64\n",
       "Wind_speed_kmph           float64\n",
       "Wind_bearing_degrees        int64\n",
       "Visibility_km             float64\n",
       "Pressure_millibars        float64\n",
       "Weather_condition           int32\n",
       "dtype: object"
      ]
     },
     "execution_count": 16,
     "metadata": {},
     "output_type": "execute_result"
    }
   ],
   "source": [
    "data.dtypes"
   ]
  },
  {
   "cell_type": "code",
   "execution_count": 17,
   "metadata": {},
   "outputs": [],
   "source": [
    "# Nous have to forcast weather conditions 4 hours in future, let's shift dataset of 4 period since each sample is \n",
    "# producted to each hour \n",
    "data['new_Weather_condition'] = data['Weather_condition'].shift(periods=4, axis=0)\n",
    "\n",
    "#delete Nan values\n",
    "data.dropna(inplace=True)"
   ]
  },
  {
   "cell_type": "code",
   "execution_count": 19,
   "metadata": {},
   "outputs": [
    {
     "data": {
      "image/png": "[encoded data removed]",
      "text/plain": [
       "<Figure size 720x360 with 2 Axes>"
      ]
     },
     "metadata": {
      "needs_background": "light"
     },
     "output_type": "display_data"
    }
   ],
   "source": [
    "# Let's glance correlations between variables\n",
    "plt.figure(figsize=(10,5))\n",
    "corr_matrix = data.corr()\n",
    "sns.heatmap(corr_matrix, annot=True)\n",
    "plt.show()"
   ]
  },
  {
   "cell_type": "markdown",
   "metadata": {},
   "source": [
    "### Remarks\n",
    "* Temperature_C and Apparent_Temperature_C are strongly corrolated\n",
    "* We have to delete one of two"
   ]
  },
  {
   "cell_type": "code",
   "execution_count": 20,
   "metadata": {},
   "outputs": [],
   "source": [
    "data.drop(['Apparent_Temperature_C'], axis=1, inplace=True)"
   ]
  },
  {
   "cell_type": "code",
   "execution_count": 23,
   "metadata": {},
   "outputs": [
    {
     "data": {
      "image/png": "[encoded data removed]",
      "text/plain": [
       "<Figure size 720x360 with 1 Axes>"
      ]
     },
     "metadata": {
      "needs_background": "light"
     },
     "output_type": "display_data"
    }
   ],
   "source": [
    "# plot graph\n",
    "plt.figure(figsize=(10,5))\n",
    "plt.plot(data['Timestamp'], data['Temperature_C'])\n",
    "plt.show()"
   ]
  },
  {
   "cell_type": "code",
   "execution_count": null,
   "metadata": {},
   "outputs": [],
   "source": []
  }
 ],
 "metadata": {
  "kernelspec": {
   "display_name": "Python 3",
   "language": "python",
   "name": "python3"
  },
  "language_info": {
   "codemirror_mode": {
    "name": "ipython",
    "version": 3
   },
   "file_extension": ".py",
   "mimetype": "text/x-python",
   "name": "python",
   "nbconvert_exporter": "python",
   "pygments_lexer": "ipython3",
   "version": "3.7.1"
  }
 },
 "nbformat": 4,
 "nbformat_minor": 4
}
